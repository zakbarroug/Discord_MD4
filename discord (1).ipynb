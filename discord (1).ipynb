{
  "nbformat": 4,
  "nbformat_minor": 0,
  "metadata": {
    "colab": {
      "provenance": []
    },
    "kernelspec": {
      "name": "python3",
      "display_name": "Python 3"
    },
    "language_info": {
      "name": "python"
    }
  },
  "cells": [
    {
      "cell_type": "code",
      "execution_count": null,
      "metadata": {
        "colab": {
          "base_uri": "https://localhost:8080/"
        },
        "id": "hF2mh4ZUpVCJ",
        "outputId": "3ab91b8b-84f2-44ef-876e-4d21f3fbcd64"
      },
      "outputs": [
        {
          "output_type": "stream",
          "name": "stderr",
          "text": [
            "/usr/local/lib/python3.9/dist-packages/ipykernel/ipkernel.py:283: DeprecationWarning: `should_run_async` will not call `transform_cell` automatically in the future. Please pass the result to `transformed_cell` argument and any exception that happen during thetransform in `preprocessing_exc_tuple` in IPython 7.17 and above.\n",
            "  and should_run_async(code)\n",
            "[nltk_data] Downloading package punkt to /root/nltk_data...\n",
            "[nltk_data]   Package punkt is already up-to-date!\n",
            "[nltk_data] Downloading package wordnet to /root/nltk_data...\n",
            "[nltk_data]   Package wordnet is already up-to-date!\n",
            "[nltk_data] Downloading package stopwords to /root/nltk_data...\n",
            "[nltk_data]   Package stopwords is already up-to-date!\n"
          ]
        }
      ],
      "source": [
        "import pandas as pd\n",
        "from google.colab import files\n",
        "import re\n",
        "from wordcloud import WordCloud\n",
        "import nltk\n",
        "import seaborn as sns\n",
        "from nltk.corpus import stopwords\n",
        "from nltk.stem import SnowballStemmer\n",
        "from nltk import word_tokenize\n",
        "nltk.download(['punkt','wordnet','stopwords'])\n",
        "import matplotlib.pyplot as plt\n",
        "import emoji\n",
        "# pyLDAvis c'est pour la visualisation \n",
        "\n",
        "import pyLDAvis.gensim_models as gensimvis\n",
        "import pyLDAvis\n",
        "\n"
      ]
    },
    {
      "cell_type": "code",
      "source": [
        "from gensim.utils import simple_preprocess\n",
        "\n",
        "\n",
        "from gensim.utils import simple_preprocess\n",
        "from gensim.parsing.preprocessing import STOPWORDS\n",
        "\n",
        "from gensim.corpora import Dictionary\n",
        "from gensim.models import LdaModel\n",
        "\n",
        "from gensim.models import CoherenceModel"
      ],
      "metadata": {
        "colab": {
          "base_uri": "https://localhost:8080/"
        },
        "id": "phdwqPTV8qh9",
        "outputId": "87e29c0a-8ef4-42b2-a5d6-0785cf8b77fd"
      },
      "execution_count": null,
      "outputs": [
        {
          "output_type": "stream",
          "name": "stderr",
          "text": [
            "/usr/local/lib/python3.9/dist-packages/ipykernel/ipkernel.py:283: DeprecationWarning: `should_run_async` will not call `transform_cell` automatically in the future. Please pass the result to `transformed_cell` argument and any exception that happen during thetransform in `preprocessing_exc_tuple` in IPython 7.17 and above.\n",
            "  and should_run_async(code)\n"
          ]
        }
      ]
    },
    {
      "cell_type": "code",
      "source": [
        "from google.colab import drive\n",
        "drive.mount('/content/drive')\n"
      ],
      "metadata": {
        "colab": {
          "base_uri": "https://localhost:8080/"
        },
        "id": "eFJIY7qDFYzT",
        "outputId": "b264b1a8-379f-4a46-9a1d-efa3e8749756"
      },
      "execution_count": null,
      "outputs": [
        {
          "output_type": "stream",
          "name": "stderr",
          "text": [
            "/usr/local/lib/python3.9/dist-packages/ipykernel/ipkernel.py:283: DeprecationWarning: `should_run_async` will not call `transform_cell` automatically in the future. Please pass the result to `transformed_cell` argument and any exception that happen during thetransform in `preprocessing_exc_tuple` in IPython 7.17 and above.\n",
            "  and should_run_async(code)\n"
          ]
        },
        {
          "output_type": "stream",
          "name": "stdout",
          "text": [
            "Drive already mounted at /content/drive; to attempt to forcibly remount, call drive.mount(\"/content/drive\", force_remount=True).\n"
          ]
        }
      ]
    },
    {
      "cell_type": "code",
      "source": [
        "path_1= '/content/drive/MyDrive/csv_discord/aide_aux_devoirs.csv'\n",
        "path_2= '/content/drive/MyDrive/csv_discord/general.csv'\n",
        "path_3= '/content/drive/MyDrive/csv_discord/hors_sujet.csv'\n",
        "path_4= '/content/drive/MyDrive/csv_discord/nlp.csv'\n",
        "path_5= '/content/drive/MyDrive/csv_discord/projet_demo.csv'\n",
        "\n",
        "data_1 = pd.read_csv(path_1, sep = \",\", encoding=\"utf-8\")\n",
        "data_2 = pd.read_csv(path_2, sep = \",\", encoding=\"utf-8\")\n",
        "data_3 = pd.read_csv(path_3, sep = \",\", encoding=\"utf-8\")\n",
        "data_4 = pd.read_csv(path_4, sep = \",\", encoding=\"utf-8\")\n",
        "data_5 = pd.read_csv(path_5, sep = \",\", encoding=\"utf-8\")"
      ],
      "metadata": {
        "colab": {
          "base_uri": "https://localhost:8080/"
        },
        "id": "_Qmd9ITdGCcu",
        "outputId": "425dfdc3-c4a9-4d77-ad00-6b1dcb09ae56"
      },
      "execution_count": null,
      "outputs": [
        {
          "output_type": "stream",
          "name": "stderr",
          "text": [
            "/usr/local/lib/python3.9/dist-packages/ipykernel/ipkernel.py:283: DeprecationWarning: `should_run_async` will not call `transform_cell` automatically in the future. Please pass the result to `transformed_cell` argument and any exception that happen during thetransform in `preprocessing_exc_tuple` in IPython 7.17 and above.\n",
            "  and should_run_async(code)\n"
          ]
        }
      ]
    },
    {
      "cell_type": "code",
      "source": [
        "data = pd.concat([data_1, data_2, data_3, data_4, data_5])\n"
      ],
      "metadata": {
        "colab": {
          "base_uri": "https://localhost:8080/"
        },
        "id": "wZDo0dQKGyOt",
        "outputId": "7e322b94-0988-4c3d-c2b4-b89e4720ba79"
      },
      "execution_count": null,
      "outputs": [
        {
          "output_type": "stream",
          "name": "stderr",
          "text": [
            "/usr/local/lib/python3.9/dist-packages/ipykernel/ipkernel.py:283: DeprecationWarning: `should_run_async` will not call `transform_cell` automatically in the future. Please pass the result to `transformed_cell` argument and any exception that happen during thetransform in `preprocessing_exc_tuple` in IPython 7.17 and above.\n",
            "  and should_run_async(code)\n"
          ]
        }
      ]
    },
    {
      "cell_type": "code",
      "source": [
        "data.shape"
      ],
      "metadata": {
        "colab": {
          "base_uri": "https://localhost:8080/"
        },
        "id": "Kr1bdlRPHY0v",
        "outputId": "0261f83c-30b1-435d-f3a0-97471d162ec1"
      },
      "execution_count": null,
      "outputs": [
        {
          "output_type": "stream",
          "name": "stderr",
          "text": [
            "/usr/local/lib/python3.9/dist-packages/ipykernel/ipkernel.py:283: DeprecationWarning: `should_run_async` will not call `transform_cell` automatically in the future. Please pass the result to `transformed_cell` argument and any exception that happen during thetransform in `preprocessing_exc_tuple` in IPython 7.17 and above.\n",
            "  and should_run_async(code)\n"
          ]
        },
        {
          "output_type": "execute_result",
          "data": {
            "text/plain": [
              "(2204, 6)"
            ]
          },
          "metadata": {},
          "execution_count": 223
        }
      ]
    },
    {
      "cell_type": "code",
      "source": [],
      "metadata": {
        "colab": {
          "base_uri": "https://localhost:8080/"
        },
        "id": "cp6bhfNYpfpF",
        "outputId": "3dd778e1-893b-44a7-dbf6-73460517a1e2"
      },
      "execution_count": null,
      "outputs": [
        {
          "output_type": "stream",
          "name": "stderr",
          "text": [
            "/usr/local/lib/python3.9/dist-packages/ipykernel/ipkernel.py:283: DeprecationWarning: `should_run_async` will not call `transform_cell` automatically in the future. Please pass the result to `transformed_cell` argument and any exception that happen during thetransform in `preprocessing_exc_tuple` in IPython 7.17 and above.\n",
            "  and should_run_async(code)\n"
          ]
        }
      ]
    },
    {
      "cell_type": "code",
      "source": [
        "data.head()"
      ],
      "metadata": {
        "colab": {
          "base_uri": "https://localhost:8080/",
          "height": 261
        },
        "id": "G6Hh9UcHqmtK",
        "outputId": "58930790-5815-4534-a64d-c02c1ddc9af2"
      },
      "execution_count": null,
      "outputs": [
        {
          "output_type": "stream",
          "name": "stderr",
          "text": [
            "/usr/local/lib/python3.9/dist-packages/ipykernel/ipkernel.py:283: DeprecationWarning: `should_run_async` will not call `transform_cell` automatically in the future. Please pass the result to `transformed_cell` argument and any exception that happen during thetransform in `preprocessing_exc_tuple` in IPython 7.17 and above.\n",
            "  and should_run_async(code)\n"
          ]
        },
        {
          "output_type": "execute_result",
          "data": {
            "text/plain": [
              "              AuthorID                   Author                 Date  \\\n",
              "0   504196704854343691                 lao#7908  11/09/2022 10:38 PM   \n",
              "1   864907830934765569  Camille (they/iel)#3944  11/09/2022 10:39 PM   \n",
              "2  1039525770231562301           Nadjet_Sm#9864  11/09/2022 10:39 PM   \n",
              "3  1037719296396230806          Quentin_Lo#0472  11/09/2022 10:40 PM   \n",
              "4   504196704854343691                 lao#7908  11/09/2022 10:46 PM   \n",
              "\n",
              "                                             Content Attachments Reactions  \n",
              "0  Salut les gens j espere que vous allez tous bi...         NaN       NaN  \n",
              "1                                Hello pas encore :/         NaN       NaN  \n",
              "2                                 Coucou, Pas encore         NaN       NaN  \n",
              "3                        salut, pas encore aussi ^^'         NaN       NaN  \n",
              "4  Merci pour vos retours au moins je sais que ce...         NaN       NaN  "
            ],
            "text/html": [
              "\n",
              "  <div id=\"df-ef351513-429a-466f-8f9d-25804da2ec21\">\n",
              "    <div class=\"colab-df-container\">\n",
              "      <div>\n",
              "<style scoped>\n",
              "    .dataframe tbody tr th:only-of-type {\n",
              "        vertical-align: middle;\n",
              "    }\n",
              "\n",
              "    .dataframe tbody tr th {\n",
              "        vertical-align: top;\n",
              "    }\n",
              "\n",
              "    .dataframe thead th {\n",
              "        text-align: right;\n",
              "    }\n",
              "</style>\n",
              "<table border=\"1\" class=\"dataframe\">\n",
              "  <thead>\n",
              "    <tr style=\"text-align: right;\">\n",
              "      <th></th>\n",
              "      <th>AuthorID</th>\n",
              "      <th>Author</th>\n",
              "      <th>Date</th>\n",
              "      <th>Content</th>\n",
              "      <th>Attachments</th>\n",
              "      <th>Reactions</th>\n",
              "    </tr>\n",
              "  </thead>\n",
              "  <tbody>\n",
              "    <tr>\n",
              "      <th>0</th>\n",
              "      <td>504196704854343691</td>\n",
              "      <td>lao#7908</td>\n",
              "      <td>11/09/2022 10:38 PM</td>\n",
              "      <td>Salut les gens j espere que vous allez tous bi...</td>\n",
              "      <td>NaN</td>\n",
              "      <td>NaN</td>\n",
              "    </tr>\n",
              "    <tr>\n",
              "      <th>1</th>\n",
              "      <td>864907830934765569</td>\n",
              "      <td>Camille (they/iel)#3944</td>\n",
              "      <td>11/09/2022 10:39 PM</td>\n",
              "      <td>Hello pas encore :/</td>\n",
              "      <td>NaN</td>\n",
              "      <td>NaN</td>\n",
              "    </tr>\n",
              "    <tr>\n",
              "      <th>2</th>\n",
              "      <td>1039525770231562301</td>\n",
              "      <td>Nadjet_Sm#9864</td>\n",
              "      <td>11/09/2022 10:39 PM</td>\n",
              "      <td>Coucou, Pas encore</td>\n",
              "      <td>NaN</td>\n",
              "      <td>NaN</td>\n",
              "    </tr>\n",
              "    <tr>\n",
              "      <th>3</th>\n",
              "      <td>1037719296396230806</td>\n",
              "      <td>Quentin_Lo#0472</td>\n",
              "      <td>11/09/2022 10:40 PM</td>\n",
              "      <td>salut, pas encore aussi ^^'</td>\n",
              "      <td>NaN</td>\n",
              "      <td>NaN</td>\n",
              "    </tr>\n",
              "    <tr>\n",
              "      <th>4</th>\n",
              "      <td>504196704854343691</td>\n",
              "      <td>lao#7908</td>\n",
              "      <td>11/09/2022 10:46 PM</td>\n",
              "      <td>Merci pour vos retours au moins je sais que ce...</td>\n",
              "      <td>NaN</td>\n",
              "      <td>NaN</td>\n",
              "    </tr>\n",
              "  </tbody>\n",
              "</table>\n",
              "</div>\n",
              "      <button class=\"colab-df-convert\" onclick=\"convertToInteractive('df-ef351513-429a-466f-8f9d-25804da2ec21')\"\n",
              "              title=\"Convert this dataframe to an interactive table.\"\n",
              "              style=\"display:none;\">\n",
              "        \n",
              "  <svg xmlns=\"http://www.w3.org/2000/svg\" height=\"24px\"viewBox=\"0 0 24 24\"\n",
              "       width=\"24px\">\n",
              "    <path d=\"M0 0h24v24H0V0z\" fill=\"none\"/>\n",
              "    <path d=\"M18.56 5.44l.94 2.06.94-2.06 2.06-.94-2.06-.94-.94-2.06-.94 2.06-2.06.94zm-11 1L8.5 8.5l.94-2.06 2.06-.94-2.06-.94L8.5 2.5l-.94 2.06-2.06.94zm10 10l.94 2.06.94-2.06 2.06-.94-2.06-.94-.94-2.06-.94 2.06-2.06.94z\"/><path d=\"M17.41 7.96l-1.37-1.37c-.4-.4-.92-.59-1.43-.59-.52 0-1.04.2-1.43.59L10.3 9.45l-7.72 7.72c-.78.78-.78 2.05 0 2.83L4 21.41c.39.39.9.59 1.41.59.51 0 1.02-.2 1.41-.59l7.78-7.78 2.81-2.81c.8-.78.8-2.07 0-2.86zM5.41 20L4 18.59l7.72-7.72 1.47 1.35L5.41 20z\"/>\n",
              "  </svg>\n",
              "      </button>\n",
              "      \n",
              "  <style>\n",
              "    .colab-df-container {\n",
              "      display:flex;\n",
              "      flex-wrap:wrap;\n",
              "      gap: 12px;\n",
              "    }\n",
              "\n",
              "    .colab-df-convert {\n",
              "      background-color: #E8F0FE;\n",
              "      border: none;\n",
              "      border-radius: 50%;\n",
              "      cursor: pointer;\n",
              "      display: none;\n",
              "      fill: #1967D2;\n",
              "      height: 32px;\n",
              "      padding: 0 0 0 0;\n",
              "      width: 32px;\n",
              "    }\n",
              "\n",
              "    .colab-df-convert:hover {\n",
              "      background-color: #E2EBFA;\n",
              "      box-shadow: 0px 1px 2px rgba(60, 64, 67, 0.3), 0px 1px 3px 1px rgba(60, 64, 67, 0.15);\n",
              "      fill: #174EA6;\n",
              "    }\n",
              "\n",
              "    [theme=dark] .colab-df-convert {\n",
              "      background-color: #3B4455;\n",
              "      fill: #D2E3FC;\n",
              "    }\n",
              "\n",
              "    [theme=dark] .colab-df-convert:hover {\n",
              "      background-color: #434B5C;\n",
              "      box-shadow: 0px 1px 3px 1px rgba(0, 0, 0, 0.15);\n",
              "      filter: drop-shadow(0px 1px 2px rgba(0, 0, 0, 0.3));\n",
              "      fill: #FFFFFF;\n",
              "    }\n",
              "  </style>\n",
              "\n",
              "      <script>\n",
              "        const buttonEl =\n",
              "          document.querySelector('#df-ef351513-429a-466f-8f9d-25804da2ec21 button.colab-df-convert');\n",
              "        buttonEl.style.display =\n",
              "          google.colab.kernel.accessAllowed ? 'block' : 'none';\n",
              "\n",
              "        async function convertToInteractive(key) {\n",
              "          const element = document.querySelector('#df-ef351513-429a-466f-8f9d-25804da2ec21');\n",
              "          const dataTable =\n",
              "            await google.colab.kernel.invokeFunction('convertToInteractive',\n",
              "                                                     [key], {});\n",
              "          if (!dataTable) return;\n",
              "\n",
              "          const docLinkHtml = 'Like what you see? Visit the ' +\n",
              "            '<a target=\"_blank\" href=https://colab.research.google.com/notebooks/data_table.ipynb>data table notebook</a>'\n",
              "            + ' to learn more about interactive tables.';\n",
              "          element.innerHTML = '';\n",
              "          dataTable['output_type'] = 'display_data';\n",
              "          await google.colab.output.renderOutput(dataTable, element);\n",
              "          const docLink = document.createElement('div');\n",
              "          docLink.innerHTML = docLinkHtml;\n",
              "          element.appendChild(docLink);\n",
              "        }\n",
              "      </script>\n",
              "    </div>\n",
              "  </div>\n",
              "  "
            ]
          },
          "metadata": {},
          "execution_count": 224
        }
      ]
    },
    {
      "cell_type": "code",
      "source": [
        "data.dtypes"
      ],
      "metadata": {
        "colab": {
          "base_uri": "https://localhost:8080/"
        },
        "id": "T0Xpn9v2qsYC",
        "outputId": "926b23c0-8d07-467c-9b2a-db660b28b43d"
      },
      "execution_count": null,
      "outputs": [
        {
          "output_type": "stream",
          "name": "stderr",
          "text": [
            "/usr/local/lib/python3.9/dist-packages/ipykernel/ipkernel.py:283: DeprecationWarning: `should_run_async` will not call `transform_cell` automatically in the future. Please pass the result to `transformed_cell` argument and any exception that happen during thetransform in `preprocessing_exc_tuple` in IPython 7.17 and above.\n",
            "  and should_run_async(code)\n"
          ]
        },
        {
          "output_type": "execute_result",
          "data": {
            "text/plain": [
              "AuthorID        int64\n",
              "Author         object\n",
              "Date           object\n",
              "Content        object\n",
              "Attachments    object\n",
              "Reactions      object\n",
              "dtype: object"
            ]
          },
          "metadata": {},
          "execution_count": 225
        }
      ]
    },
    {
      "cell_type": "code",
      "source": [
        "data.isna().sum()"
      ],
      "metadata": {
        "colab": {
          "base_uri": "https://localhost:8080/"
        },
        "id": "WP5EcaaSqsbL",
        "outputId": "53e1a20f-c6ee-468a-cf14-d12296960abf"
      },
      "execution_count": null,
      "outputs": [
        {
          "output_type": "stream",
          "name": "stderr",
          "text": [
            "/usr/local/lib/python3.9/dist-packages/ipykernel/ipkernel.py:283: DeprecationWarning: `should_run_async` will not call `transform_cell` automatically in the future. Please pass the result to `transformed_cell` argument and any exception that happen during thetransform in `preprocessing_exc_tuple` in IPython 7.17 and above.\n",
            "  and should_run_async(code)\n"
          ]
        },
        {
          "output_type": "execute_result",
          "data": {
            "text/plain": [
              "AuthorID          0\n",
              "Author            0\n",
              "Date              0\n",
              "Content         185\n",
              "Attachments    1990\n",
              "Reactions      1837\n",
              "dtype: int64"
            ]
          },
          "metadata": {},
          "execution_count": 226
        }
      ]
    },
    {
      "cell_type": "code",
      "source": [
        "\n",
        "data[\"Author\"]=data[\"Author\"].apply(lambda x: x.split(\"#\")[0])"
      ],
      "metadata": {
        "colab": {
          "base_uri": "https://localhost:8080/"
        },
        "id": "9I7OYWa0qxvB",
        "outputId": "217999ce-9164-495c-a6cf-863b2affbb22"
      },
      "execution_count": null,
      "outputs": [
        {
          "output_type": "stream",
          "name": "stderr",
          "text": [
            "/usr/local/lib/python3.9/dist-packages/ipykernel/ipkernel.py:283: DeprecationWarning: `should_run_async` will not call `transform_cell` automatically in the future. Please pass the result to `transformed_cell` argument and any exception that happen during thetransform in `preprocessing_exc_tuple` in IPython 7.17 and above.\n",
            "  and should_run_async(code)\n"
          ]
        }
      ]
    },
    {
      "cell_type": "code",
      "source": [
        "# Compter le nombre de messages postés par chaque auteur\n",
        "author_counts = data[\"Author\"].value_counts()\n",
        "\n",
        "# Convertir les données en une matrice de 1xN pour pouvoir tracer une carte thermique\n",
        "heatmap_data = pd.DataFrame(author_counts.values.reshape(1, -1), columns=author_counts.index)\n",
        "\n",
        "# Sélectionner les 10 auteurs ayant posté le plus grand nombre de messages\n",
        "top_10_authors = author_counts.iloc[:10]\n",
        "\n",
        "# Filtrer la matrice pour ne conserver que les 10 premiers auteurs\n",
        "heatmap_data = heatmap_data[top_10_authors.index]\n",
        "\n",
        "# Tracer une carte thermique avec une palette de couleurs appropriée\n",
        "sns.heatmap(heatmap_data, cmap=\"YlGnBu\", annot=True, fmt=\"d\", cbar=False)\n",
        "plt.xticks(rotation=45)\n",
        "plt.xlabel(\"Auteur\")\n",
        "plt.ylabel(\"Nombre de messages\")\n",
        "plt.show()"
      ],
      "metadata": {
        "colab": {
          "base_uri": "https://localhost:8080/",
          "height": 654
        },
        "id": "TWpPPdFDLdA2",
        "outputId": "4756445a-5193-4121-8d38-dce6b33b7c10"
      },
      "execution_count": null,
      "outputs": [
        {
          "output_type": "stream",
          "name": "stderr",
          "text": [
            "/usr/local/lib/python3.9/dist-packages/ipykernel/ipkernel.py:283: DeprecationWarning: `should_run_async` will not call `transform_cell` automatically in the future. Please pass the result to `transformed_cell` argument and any exception that happen during thetransform in `preprocessing_exc_tuple` in IPython 7.17 and above.\n",
            "  and should_run_async(code)\n",
            "/usr/local/lib/python3.9/dist-packages/seaborn/utils.py:80: UserWarning: Glyph 3675 (\\N{THAI CHARACTER KHOMUT}) missing from current font.\n",
            "  fig.canvas.draw()\n",
            "/usr/local/lib/python3.9/dist-packages/IPython/core/pylabtools.py:151: UserWarning: Glyph 3675 (\\N{THAI CHARACTER KHOMUT}) missing from current font.\n",
            "  fig.canvas.print_figure(bytes_io, **kw)\n"
          ]
        },
        {
          "output_type": "display_data",
          "data": {
            "text/plain": [
              "<Figure size 640x480 with 1 Axes>"
            ],
            "image/png": "[encoded data removed]"
          },
          "metadata": {}
        }
      ]
    },
    {
      "cell_type": "code",
      "source": [],
      "metadata": {
        "id": "y_ke-yfrQopP"
      },
      "execution_count": null,
      "outputs": []
    },
    {
      "cell_type": "code",
      "source": [],
      "metadata": {
        "colab": {
          "base_uri": "https://localhost:8080/"
        },
        "id": "mwELlaKoQKN5",
        "outputId": "44c9e4a0-fa39-4636-ef55-8f1836306551"
      },
      "execution_count": null,
      "outputs": [
        {
          "output_type": "stream",
          "name": "stderr",
          "text": [
            "/usr/local/lib/python3.9/dist-packages/ipykernel/ipkernel.py:283: DeprecationWarning: `should_run_async` will not call `transform_cell` automatically in the future. Please pass the result to `transformed_cell` argument and any exception that happen during thetransform in `preprocessing_exc_tuple` in IPython 7.17 and above.\n",
            "  and should_run_async(code)\n"
          ]
        }
      ]
    },
    {
      "cell_type": "code",
      "source": [
        "data[data[\"Content\"].isna()]"
      ],
      "metadata": {
        "colab": {
          "base_uri": "https://localhost:8080/",
          "height": 478
        },
        "id": "hZcpLAdzq4PG",
        "outputId": "3e62a5cb-53b6-4b68-e77f-e39a4d70d3c5"
      },
      "execution_count": null,
      "outputs": [
        {
          "output_type": "stream",
          "name": "stderr",
          "text": [
            "/usr/local/lib/python3.9/dist-packages/ipykernel/ipkernel.py:283: DeprecationWarning: `should_run_async` will not call `transform_cell` automatically in the future. Please pass the result to `transformed_cell` argument and any exception that happen during thetransform in `preprocessing_exc_tuple` in IPython 7.17 and above.\n",
            "  and should_run_async(code)\n"
          ]
        },
        {
          "output_type": "execute_result",
          "data": {
            "text/plain": [
              "                AuthorID              Author                 Date Content  \\\n",
              "22   1039327866120327329            Ahmed-IW  11/20/2022 12:15 PM     NaN   \n",
              "61    957409785400164384           UC๛S͜͡now  12/04/2022 11:18 AM     NaN   \n",
              "103   776137688100241458             Moleboo  01/09/2023 11:55 AM     NaN   \n",
              "131   828875893014790194              antoni  01/18/2023 10:31 AM     NaN   \n",
              "134   864907830934765569  Camille (they/iel)   01/24/2023 4:44 PM     NaN   \n",
              "..                   ...                 ...                  ...     ...   \n",
              "429   298170534464585730                $oµl  04/14/2023 12:22 PM     NaN   \n",
              "434   298170534464585730                $oµl   04/14/2023 2:18 PM     NaN   \n",
              "435   957409785400164384           UC๛S͜͡now   04/14/2023 2:22 PM     NaN   \n",
              "441   690615834980384858           Sara58143   04/14/2023 5:39 PM     NaN   \n",
              "14    776137688100241458             Moleboo   03/30/2023 1:44 PM     NaN   \n",
              "\n",
              "                                           Attachments Reactions  \n",
              "22   https://cdn.discordapp.com/attachments/1039627...       NaN  \n",
              "61   https://cdn.discordapp.com/attachments/1039627...       NaN  \n",
              "103  https://cdn.discordapp.com/attachments/1039627...       NaN  \n",
              "131  https://cdn.discordapp.com/attachments/1039627...     👍 (6)  \n",
              "134  https://cdn.discordapp.com/attachments/1039627...       NaN  \n",
              "..                                                 ...       ...  \n",
              "429  https://cdn.discordapp.com/attachments/1083698...       NaN  \n",
              "434  https://cdn.discordapp.com/attachments/1083698...       NaN  \n",
              "435  https://cdn.discordapp.com/attachments/1083698...       NaN  \n",
              "441  https://cdn.discordapp.com/attachments/1083698...       NaN  \n",
              "14   https://cdn.discordapp.com/attachments/1075393...       NaN  \n",
              "\n",
              "[185 rows x 6 columns]"
            ],
            "text/html": [
              "\n",
              "  <div id=\"df-f28df438-d9ab-4590-a980-4baabb14cf8c\">\n",
              "    <div class=\"colab-df-container\">\n",
              "      <div>\n",
              "<style scoped>\n",
              "    .dataframe tbody tr th:only-of-type {\n",
              "        vertical-align: middle;\n",
              "    }\n",
              "\n",
              "    .dataframe tbody tr th {\n",
              "        vertical-align: top;\n",
              "    }\n",
              "\n",
              "    .dataframe thead th {\n",
              "        text-align: right;\n",
              "    }\n",
              "</style>\n",
              "<table border=\"1\" class=\"dataframe\">\n",
              "  <thead>\n",
              "    <tr style=\"text-align: right;\">\n",
              "      <th></th>\n",
              "      <th>AuthorID</th>\n",
              "      <th>Author</th>\n",
              "      <th>Date</th>\n",
              "      <th>Content</th>\n",
              "      <th>Attachments</th>\n",
              "      <th>Reactions</th>\n",
              "    </tr>\n",
              "  </thead>\n",
              "  <tbody>\n",
              "    <tr>\n",
              "      <th>22</th>\n",
              "      <td>1039327866120327329</td>\n",
              "      <td>Ahmed-IW</td>\n",
              "      <td>11/20/2022 12:15 PM</td>\n",
              "      <td>NaN</td>\n",
              "      <td>https://cdn.discordapp.com/attachments/1039627...</td>\n",
              "      <td>NaN</td>\n",
              "    </tr>\n",
              "    <tr>\n",
              "      <th>61</th>\n",
              "      <td>957409785400164384</td>\n",
              "      <td>UC๛S͜͡now</td>\n",
              "      <td>12/04/2022 11:18 AM</td>\n",
              "      <td>NaN</td>\n",
              "      <td>https://cdn.discordapp.com/attachments/1039627...</td>\n",
              "      <td>NaN</td>\n",
              "    </tr>\n",
              "    <tr>\n",
              "      <th>103</th>\n",
              "      <td>776137688100241458</td>\n",
              "      <td>Moleboo</td>\n",
              "      <td>01/09/2023 11:55 AM</td>\n",
              "      <td>NaN</td>\n",
              "      <td>https://cdn.discordapp.com/attachments/1039627...</td>\n",
              "      <td>NaN</td>\n",
              "    </tr>\n",
              "    <tr>\n",
              "      <th>131</th>\n",
              "      <td>828875893014790194</td>\n",
              "      <td>antoni</td>\n",
              "      <td>01/18/2023 10:31 AM</td>\n",
              "      <td>NaN</td>\n",
              "      <td>https://cdn.discordapp.com/attachments/1039627...</td>\n",
              "      <td>👍 (6)</td>\n",
              "    </tr>\n",
              "    <tr>\n",
              "      <th>134</th>\n",
              "      <td>864907830934765569</td>\n",
              "      <td>Camille (they/iel)</td>\n",
              "      <td>01/24/2023 4:44 PM</td>\n",
              "      <td>NaN</td>\n",
              "      <td>https://cdn.discordapp.com/attachments/1039627...</td>\n",
              "      <td>NaN</td>\n",
              "    </tr>\n",
              "    <tr>\n",
              "      <th>...</th>\n",
              "      <td>...</td>\n",
              "      <td>...</td>\n",
              "      <td>...</td>\n",
              "      <td>...</td>\n",
              "      <td>...</td>\n",
              "      <td>...</td>\n",
              "    </tr>\n",
              "    <tr>\n",
              "      <th>429</th>\n",
              "      <td>298170534464585730</td>\n",
              "      <td>$oµl</td>\n",
              "      <td>04/14/2023 12:22 PM</td>\n",
              "      <td>NaN</td>\n",
              "      <td>https://cdn.discordapp.com/attachments/1083698...</td>\n",
              "      <td>NaN</td>\n",
              "    </tr>\n",
              "    <tr>\n",
              "      <th>434</th>\n",
              "      <td>298170534464585730</td>\n",
              "      <td>$oµl</td>\n",
              "      <td>04/14/2023 2:18 PM</td>\n",
              "      <td>NaN</td>\n",
              "      <td>https://cdn.discordapp.com/attachments/1083698...</td>\n",
              "      <td>NaN</td>\n",
              "    </tr>\n",
              "    <tr>\n",
              "      <th>435</th>\n",
              "      <td>957409785400164384</td>\n",
              "      <td>UC๛S͜͡now</td>\n",
              "      <td>04/14/2023 2:22 PM</td>\n",
              "      <td>NaN</td>\n",
              "      <td>https://cdn.discordapp.com/attachments/1083698...</td>\n",
              "      <td>NaN</td>\n",
              "    </tr>\n",
              "    <tr>\n",
              "      <th>441</th>\n",
              "      <td>690615834980384858</td>\n",
              "      <td>Sara58143</td>\n",
              "      <td>04/14/2023 5:39 PM</td>\n",
              "      <td>NaN</td>\n",
              "      <td>https://cdn.discordapp.com/attachments/1083698...</td>\n",
              "      <td>NaN</td>\n",
              "    </tr>\n",
              "    <tr>\n",
              "      <th>14</th>\n",
              "      <td>776137688100241458</td>\n",
              "      <td>Moleboo</td>\n",
              "      <td>03/30/2023 1:44 PM</td>\n",
              "      <td>NaN</td>\n",
              "      <td>https://cdn.discordapp.com/attachments/1075393...</td>\n",
              "      <td>NaN</td>\n",
              "    </tr>\n",
              "  </tbody>\n",
              "</table>\n",
              "<p>185 rows × 6 columns</p>\n",
              "</div>\n",
              "      <button class=\"colab-df-convert\" onclick=\"convertToInteractive('df-f28df438-d9ab-4590-a980-4baabb14cf8c')\"\n",
              "              title=\"Convert this dataframe to an interactive table.\"\n",
              "              style=\"display:none;\">\n",
              "        \n",
              "  <svg xmlns=\"http://www.w3.org/2000/svg\" height=\"24px\"viewBox=\"0 0 24 24\"\n",
              "       width=\"24px\">\n",
              "    <path d=\"M0 0h24v24H0V0z\" fill=\"none\"/>\n",
              "    <path d=\"M18.56 5.44l.94 2.06.94-2.06 2.06-.94-2.06-.94-.94-2.06-.94 2.06-2.06.94zm-11 1L8.5 8.5l.94-2.06 2.06-.94-2.06-.94L8.5 2.5l-.94 2.06-2.06.94zm10 10l.94 2.06.94-2.06 2.06-.94-2.06-.94-.94-2.06-.94 2.06-2.06.94z\"/><path d=\"M17.41 7.96l-1.37-1.37c-.4-.4-.92-.59-1.43-.59-.52 0-1.04.2-1.43.59L10.3 9.45l-7.72 7.72c-.78.78-.78 2.05 0 2.83L4 21.41c.39.39.9.59 1.41.59.51 0 1.02-.2 1.41-.59l7.78-7.78 2.81-2.81c.8-.78.8-2.07 0-2.86zM5.41 20L4 18.59l7.72-7.72 1.47 1.35L5.41 20z\"/>\n",
              "  </svg>\n",
              "      </button>\n",
              "      \n",
              "  <style>\n",
              "    .colab-df-container {\n",
              "      display:flex;\n",
              "      flex-wrap:wrap;\n",
              "      gap: 12px;\n",
              "    }\n",
              "\n",
              "    .colab-df-convert {\n",
              "      background-color: #E8F0FE;\n",
              "      border: none;\n",
              "      border-radius: 50%;\n",
              "      cursor: pointer;\n",
              "      display: none;\n",
              "      fill: #1967D2;\n",
              "      height: 32px;\n",
              "      padding: 0 0 0 0;\n",
              "      width: 32px;\n",
              "    }\n",
              "\n",
              "    .colab-df-convert:hover {\n",
              "      background-color: #E2EBFA;\n",
              "      box-shadow: 0px 1px 2px rgba(60, 64, 67, 0.3), 0px 1px 3px 1px rgba(60, 64, 67, 0.15);\n",
              "      fill: #174EA6;\n",
              "    }\n",
              "\n",
              "    [theme=dark] .colab-df-convert {\n",
              "      background-color: #3B4455;\n",
              "      fill: #D2E3FC;\n",
              "    }\n",
              "\n",
              "    [theme=dark] .colab-df-convert:hover {\n",
              "      background-color: #434B5C;\n",
              "      box-shadow: 0px 1px 3px 1px rgba(0, 0, 0, 0.15);\n",
              "      filter: drop-shadow(0px 1px 2px rgba(0, 0, 0, 0.3));\n",
              "      fill: #FFFFFF;\n",
              "    }\n",
              "  </style>\n",
              "\n",
              "      <script>\n",
              "        const buttonEl =\n",
              "          document.querySelector('#df-f28df438-d9ab-4590-a980-4baabb14cf8c button.colab-df-convert');\n",
              "        buttonEl.style.display =\n",
              "          google.colab.kernel.accessAllowed ? 'block' : 'none';\n",
              "\n",
              "        async function convertToInteractive(key) {\n",
              "          const element = document.querySelector('#df-f28df438-d9ab-4590-a980-4baabb14cf8c');\n",
              "          const dataTable =\n",
              "            await google.colab.kernel.invokeFunction('convertToInteractive',\n",
              "                                                     [key], {});\n",
              "          if (!dataTable) return;\n",
              "\n",
              "          const docLinkHtml = 'Like what you see? Visit the ' +\n",
              "            '<a target=\"_blank\" href=https://colab.research.google.com/notebooks/data_table.ipynb>data table notebook</a>'\n",
              "            + ' to learn more about interactive tables.';\n",
              "          element.innerHTML = '';\n",
              "          dataTable['output_type'] = 'display_data';\n",
              "          await google.colab.output.renderOutput(dataTable, element);\n",
              "          const docLink = document.createElement('div');\n",
              "          docLink.innerHTML = docLinkHtml;\n",
              "          element.appendChild(docLink);\n",
              "        }\n",
              "      </script>\n",
              "    </div>\n",
              "  </div>\n",
              "  "
            ]
          },
          "metadata": {},
          "execution_count": 228
        }
      ]
    },
    {
      "cell_type": "code",
      "source": [
        "data.drop([\"AuthorID\",\t\"Date\",\t\"Attachments\"],axis=1,inplace=True)"
      ],
      "metadata": {
        "colab": {
          "base_uri": "https://localhost:8080/"
        },
        "id": "s1ojHJhpA9Tu",
        "outputId": "7001844d-e916-47fa-c94f-186da1edf392"
      },
      "execution_count": null,
      "outputs": [
        {
          "output_type": "stream",
          "name": "stderr",
          "text": [
            "/usr/local/lib/python3.9/dist-packages/ipykernel/ipkernel.py:283: DeprecationWarning: `should_run_async` will not call `transform_cell` automatically in the future. Please pass the result to `transformed_cell` argument and any exception that happen during thetransform in `preprocessing_exc_tuple` in IPython 7.17 and above.\n",
            "  and should_run_async(code)\n"
          ]
        }
      ]
    },
    {
      "cell_type": "code",
      "source": [
        "data.head()"
      ],
      "metadata": {
        "colab": {
          "base_uri": "https://localhost:8080/",
          "height": 261
        },
        "id": "KYwnBvXRBeo8",
        "outputId": "8215e18e-b576-4ee4-96f5-648220cc6c7b"
      },
      "execution_count": null,
      "outputs": [
        {
          "output_type": "stream",
          "name": "stderr",
          "text": [
            "/usr/local/lib/python3.9/dist-packages/ipykernel/ipkernel.py:283: DeprecationWarning: `should_run_async` will not call `transform_cell` automatically in the future. Please pass the result to `transformed_cell` argument and any exception that happen during thetransform in `preprocessing_exc_tuple` in IPython 7.17 and above.\n",
            "  and should_run_async(code)\n"
          ]
        },
        {
          "output_type": "execute_result",
          "data": {
            "text/plain": [
              "               Author                                            Content  \\\n",
              "0                 lao  Salut les gens j espere que vous allez tous bi...   \n",
              "1  Camille (they/iel)                                Hello pas encore :/   \n",
              "2           Nadjet_Sm                                 Coucou, Pas encore   \n",
              "3          Quentin_Lo                        salut, pas encore aussi ^^'   \n",
              "4                 lao  Merci pour vos retours au moins je sais que ce...   \n",
              "\n",
              "  Reactions  \n",
              "0       NaN  \n",
              "1       NaN  \n",
              "2       NaN  \n",
              "3       NaN  \n",
              "4       NaN  "
            ],
            "text/html": [
              "\n",
              "  <div id=\"df-8db1a70c-56d7-4d51-8ecc-4ee492b83e2e\">\n",
              "    <div class=\"colab-df-container\">\n",
              "      <div>\n",
              "<style scoped>\n",
              "    .dataframe tbody tr th:only-of-type {\n",
              "        vertical-align: middle;\n",
              "    }\n",
              "\n",
              "    .dataframe tbody tr th {\n",
              "        vertical-align: top;\n",
              "    }\n",
              "\n",
              "    .dataframe thead th {\n",
              "        text-align: right;\n",
              "    }\n",
              "</style>\n",
              "<table border=\"1\" class=\"dataframe\">\n",
              "  <thead>\n",
              "    <tr style=\"text-align: right;\">\n",
              "      <th></th>\n",
              "      <th>Author</th>\n",
              "      <th>Content</th>\n",
              "      <th>Reactions</th>\n",
              "    </tr>\n",
              "  </thead>\n",
              "  <tbody>\n",
              "    <tr>\n",
              "      <th>0</th>\n",
              "      <td>lao</td>\n",
              "      <td>Salut les gens j espere que vous allez tous bi...</td>\n",
              "      <td>NaN</td>\n",
              "    </tr>\n",
              "    <tr>\n",
              "      <th>1</th>\n",
              "      <td>Camille (they/iel)</td>\n",
              "      <td>Hello pas encore :/</td>\n",
              "      <td>NaN</td>\n",
              "    </tr>\n",
              "    <tr>\n",
              "      <th>2</th>\n",
              "      <td>Nadjet_Sm</td>\n",
              "      <td>Coucou, Pas encore</td>\n",
              "      <td>NaN</td>\n",
              "    </tr>\n",
              "    <tr>\n",
              "      <th>3</th>\n",
              "      <td>Quentin_Lo</td>\n",
              "      <td>salut, pas encore aussi ^^'</td>\n",
              "      <td>NaN</td>\n",
              "    </tr>\n",
              "    <tr>\n",
              "      <th>4</th>\n",
              "      <td>lao</td>\n",
              "      <td>Merci pour vos retours au moins je sais que ce...</td>\n",
              "      <td>NaN</td>\n",
              "    </tr>\n",
              "  </tbody>\n",
              "</table>\n",
              "</div>\n",
              "      <button class=\"colab-df-convert\" onclick=\"convertToInteractive('df-8db1a70c-56d7-4d51-8ecc-4ee492b83e2e')\"\n",
              "              title=\"Convert this dataframe to an interactive table.\"\n",
              "              style=\"display:none;\">\n",
              "        \n",
              "  <svg xmlns=\"http://www.w3.org/2000/svg\" height=\"24px\"viewBox=\"0 0 24 24\"\n",
              "       width=\"24px\">\n",
              "    <path d=\"M0 0h24v24H0V0z\" fill=\"none\"/>\n",
              "    <path d=\"M18.56 5.44l.94 2.06.94-2.06 2.06-.94-2.06-.94-.94-2.06-.94 2.06-2.06.94zm-11 1L8.5 8.5l.94-2.06 2.06-.94-2.06-.94L8.5 2.5l-.94 2.06-2.06.94zm10 10l.94 2.06.94-2.06 2.06-.94-2.06-.94-.94-2.06-.94 2.06-2.06.94z\"/><path d=\"M17.41 7.96l-1.37-1.37c-.4-.4-.92-.59-1.43-.59-.52 0-1.04.2-1.43.59L10.3 9.45l-7.72 7.72c-.78.78-.78 2.05 0 2.83L4 21.41c.39.39.9.59 1.41.59.51 0 1.02-.2 1.41-.59l7.78-7.78 2.81-2.81c.8-.78.8-2.07 0-2.86zM5.41 20L4 18.59l7.72-7.72 1.47 1.35L5.41 20z\"/>\n",
              "  </svg>\n",
              "      </button>\n",
              "      \n",
              "  <style>\n",
              "    .colab-df-container {\n",
              "      display:flex;\n",
              "      flex-wrap:wrap;\n",
              "      gap: 12px;\n",
              "    }\n",
              "\n",
              "    .colab-df-convert {\n",
              "      background-color: #E8F0FE;\n",
              "      border: none;\n",
              "      border-radius: 50%;\n",
              "      cursor: pointer;\n",
              "      display: none;\n",
              "      fill: #1967D2;\n",
              "      height: 32px;\n",
              "      padding: 0 0 0 0;\n",
              "      width: 32px;\n",
              "    }\n",
              "\n",
              "    .colab-df-convert:hover {\n",
              "      background-color: #E2EBFA;\n",
              "      box-shadow: 0px 1px 2px rgba(60, 64, 67, 0.3), 0px 1px 3px 1px rgba(60, 64, 67, 0.15);\n",
              "      fill: #174EA6;\n",
              "    }\n",
              "\n",
              "    [theme=dark] .colab-df-convert {\n",
              "      background-color: #3B4455;\n",
              "      fill: #D2E3FC;\n",
              "    }\n",
              "\n",
              "    [theme=dark] .colab-df-convert:hover {\n",
              "      background-color: #434B5C;\n",
              "      box-shadow: 0px 1px 3px 1px rgba(0, 0, 0, 0.15);\n",
              "      filter: drop-shadow(0px 1px 2px rgba(0, 0, 0, 0.3));\n",
              "      fill: #FFFFFF;\n",
              "    }\n",
              "  </style>\n",
              "\n",
              "      <script>\n",
              "        const buttonEl =\n",
              "          document.querySelector('#df-8db1a70c-56d7-4d51-8ecc-4ee492b83e2e button.colab-df-convert');\n",
              "        buttonEl.style.display =\n",
              "          google.colab.kernel.accessAllowed ? 'block' : 'none';\n",
              "\n",
              "        async function convertToInteractive(key) {\n",
              "          const element = document.querySelector('#df-8db1a70c-56d7-4d51-8ecc-4ee492b83e2e');\n",
              "          const dataTable =\n",
              "            await google.colab.kernel.invokeFunction('convertToInteractive',\n",
              "                                                     [key], {});\n",
              "          if (!dataTable) return;\n",
              "\n",
              "          const docLinkHtml = 'Like what you see? Visit the ' +\n",
              "            '<a target=\"_blank\" href=https://colab.research.google.com/notebooks/data_table.ipynb>data table notebook</a>'\n",
              "            + ' to learn more about interactive tables.';\n",
              "          element.innerHTML = '';\n",
              "          dataTable['output_type'] = 'display_data';\n",
              "          await google.colab.output.renderOutput(dataTable, element);\n",
              "          const docLink = document.createElement('div');\n",
              "          docLink.innerHTML = docLinkHtml;\n",
              "          element.appendChild(docLink);\n",
              "        }\n",
              "      </script>\n",
              "    </div>\n",
              "  </div>\n",
              "  "
            ]
          },
          "metadata": {},
          "execution_count": 230
        }
      ]
    },
    {
      "cell_type": "code",
      "source": [],
      "metadata": {
        "colab": {
          "base_uri": "https://localhost:8080/"
        },
        "id": "kCdg57jiBy-z",
        "outputId": "0f17d237-c77f-4b42-837f-dc9aee3d4319"
      },
      "execution_count": null,
      "outputs": [
        {
          "output_type": "stream",
          "name": "stderr",
          "text": [
            "/usr/local/lib/python3.9/dist-packages/ipykernel/ipkernel.py:283: DeprecationWarning: `should_run_async` will not call `transform_cell` automatically in the future. Please pass the result to `transformed_cell` argument and any exception that happen during thetransform in `preprocessing_exc_tuple` in IPython 7.17 and above.\n",
            "  and should_run_async(code)\n"
          ]
        },
        {
          "output_type": "execute_result",
          "data": {
            "text/plain": [
              "Author\n",
              "Camille (they/iel)    110\n",
              "UC๛S͜͡now              85\n",
              "Moleboo                17\n",
              "$oµl                   15\n",
              "lao                    15\n",
              "Quentin_Lo             13\n",
              "antoni                 10\n",
              "OrKashM                 9\n",
              "Salut_Anes              7\n",
              "yopa                    7\n",
              "ALI SL                  7\n",
              "Giusfer                 5\n",
              "Spoofy                  5\n",
              "Ahmed-IW                5\n",
              "Kakpo_YEHOSSOU          5\n",
              "charaf abrit            4\n",
              "Théodore F.             4\n",
              "Firemaki                4\n",
              "Simple Poll             4\n",
              "Sara58143               4\n",
              "Freeman                 3\n",
              "Wiz Kevin               3\n",
              "Flavie                  3\n",
              "Ryan_Agz                3\n",
              "ayoub_gh                2\n",
              "Safaa Boulaich          2\n",
              "Achraf                  2\n",
              "Zak spow                2\n",
              "~Twenty~                2\n",
              "Fadi                    2\n",
              "Jérémi VESPUCE          2\n",
              "Nadjet_Sm               2\n",
              "Yanis_21                1\n",
              "abdoupitou              1\n",
              "Bouz                    1\n",
              "Crixian91               1\n",
              "FredBoat♪♪              0\n",
              "Hydra                   0\n",
              "MOSES                   0\n",
              "EtienneSafaRP           0\n",
              "Regis                   0\n",
              "André.R                 0\n",
              "OmarEn                  0\n",
              "Sylouuu                 0\n",
              "ProBot ✨                0\n",
              "Eliee                   0\n",
              "Name: Reactions, dtype: int64"
            ]
          },
          "metadata": {},
          "execution_count": 231
        }
      ]
    },
    {
      "cell_type": "code",
      "source": [
        "data[\"Author\"].value_counts()"
      ],
      "metadata": {
        "colab": {
          "base_uri": "https://localhost:8080/"
        },
        "id": "ZEarcMZVq7_O",
        "outputId": "bac71f53-bfb7-4d3c-b0bc-cee531ec5923"
      },
      "execution_count": null,
      "outputs": [
        {
          "output_type": "stream",
          "name": "stderr",
          "text": [
            "/usr/local/lib/python3.9/dist-packages/ipykernel/ipkernel.py:283: DeprecationWarning: `should_run_async` will not call `transform_cell` automatically in the future. Please pass the result to `transformed_cell` argument and any exception that happen during thetransform in `preprocessing_exc_tuple` in IPython 7.17 and above.\n",
            "  and should_run_async(code)\n"
          ]
        },
        {
          "output_type": "execute_result",
          "data": {
            "text/plain": [
              "Camille (they/iel)    624\n",
              "UC๛S͜͡now             574\n",
              "$oµl                   97\n",
              "OrKashM                88\n",
              "lao                    79\n",
              "Quentin_Lo             78\n",
              "Moleboo                68\n",
              "Freeman                67\n",
              "antoni                 49\n",
              "Ahmed-IW               43\n",
              "Salut_Anes             41\n",
              "Théodore F.            41\n",
              "yopa                   37\n",
              "Sara58143              33\n",
              "Kakpo_YEHOSSOU         29\n",
              "Spoofy                 26\n",
              "Crixian91              22\n",
              "Firemaki               20\n",
              "ALI SL                 19\n",
              "Bouz                   15\n",
              "Ryan_Agz               14\n",
              "Jérémi VESPUCE         14\n",
              "Nadjet_Sm              14\n",
              "Yanis_21               13\n",
              "Achraf                 12\n",
              "Wiz Kevin              11\n",
              "charaf abrit            9\n",
              "Flavie                  8\n",
              "Giusfer                 8\n",
              "~Twenty~                6\n",
              "Safaa Boulaich          6\n",
              "Sylouuu                 6\n",
              "Simple Poll             5\n",
              "Fadi                    4\n",
              "Zak spow                4\n",
              "ayoub_gh                4\n",
              "Regis                   3\n",
              "abdoupitou              2\n",
              "MOSES                   2\n",
              "OmarEn                  2\n",
              "Eliee                   2\n",
              "ProBot ✨                1\n",
              "Hydra                   1\n",
              "FredBoat♪♪              1\n",
              "André.R                 1\n",
              "EtienneSafaRP           1\n",
              "Name: Author, dtype: int64"
            ]
          },
          "metadata": {},
          "execution_count": 232
        }
      ]
    },
    {
      "cell_type": "code",
      "source": [],
      "metadata": {
        "colab": {
          "base_uri": "https://localhost:8080/"
        },
        "id": "SJHMauCw0Q0n",
        "outputId": "1919b2bc-9314-4c3a-a5d1-33c0289c6afc"
      },
      "execution_count": null,
      "outputs": [
        {
          "output_type": "stream",
          "name": "stderr",
          "text": [
            "/usr/local/lib/python3.9/dist-packages/ipykernel/ipkernel.py:283: DeprecationWarning: `should_run_async` will not call `transform_cell` automatically in the future. Please pass the result to `transformed_cell` argument and any exception that happen during thetransform in `preprocessing_exc_tuple` in IPython 7.17 and above.\n",
            "  and should_run_async(code)\n"
          ]
        }
      ]
    },
    {
      "cell_type": "code",
      "source": [
        "#supprimer la valeur \"Joined the server\"\n",
        "data = data[data[\"Content\"].notnull() & (data[\"Content\"] != \"Joined the server.\")]\n"
      ],
      "metadata": {
        "colab": {
          "base_uri": "https://localhost:8080/"
        },
        "id": "zrIMFzIVqxxj",
        "outputId": "f7dc9605-cabf-405b-b05d-e546feee217f"
      },
      "execution_count": null,
      "outputs": [
        {
          "output_type": "stream",
          "name": "stderr",
          "text": [
            "/usr/local/lib/python3.9/dist-packages/ipykernel/ipkernel.py:283: DeprecationWarning: `should_run_async` will not call `transform_cell` automatically in the future. Please pass the result to `transformed_cell` argument and any exception that happen during thetransform in `preprocessing_exc_tuple` in IPython 7.17 and above.\n",
            "  and should_run_async(code)\n"
          ]
        }
      ]
    },
    {
      "cell_type": "code",
      "source": [
        "#supprimer les robots\n",
        "mask = data['Content'].str.contains('ProBot|Hydra|FredBoat|Ear Tensifie|Simple Poll')\n",
        "data = data[~mask]"
      ],
      "metadata": {
        "colab": {
          "base_uri": "https://localhost:8080/"
        },
        "id": "XOgA43dO2cbc",
        "outputId": "8172eaae-b075-447b-8969-fdcb24acec55"
      },
      "execution_count": null,
      "outputs": [
        {
          "output_type": "stream",
          "name": "stderr",
          "text": [
            "/usr/local/lib/python3.9/dist-packages/ipykernel/ipkernel.py:283: DeprecationWarning: `should_run_async` will not call `transform_cell` automatically in the future. Please pass the result to `transformed_cell` argument and any exception that happen during thetransform in `preprocessing_exc_tuple` in IPython 7.17 and above.\n",
            "  and should_run_async(code)\n"
          ]
        }
      ]
    },
    {
      "cell_type": "code",
      "source": [
        "#supprimer les emojis\n",
        "def remove_emoji(text):\n",
        "    emoji_pattern = re.compile(\"[\"\n",
        "        u\"\\U0001F600-\\U0001F64F\"  # emoticons\n",
        "        u\"\\U0001F300-\\U0001F5FF\"  # symbols & pictographs\n",
        "        u\"\\U0001F680-\\U0001F6FF\"  # transport & map symbols\n",
        "        u\"\\U0001F1E0-\\U0001F1FF\"  # flags (iOS)\n",
        "                           \"]+\", flags=re.UNICODE)\n",
        "    return emoji_pattern.sub(r'', text)\n",
        "\n",
        "data['Content'] = data['Content'].apply(remove_emoji)"
      ],
      "metadata": {
        "colab": {
          "base_uri": "https://localhost:8080/"
        },
        "id": "qFuwHQqN2jlI",
        "outputId": "3a45d194-d18a-42df-984a-12daca6ed2df"
      },
      "execution_count": null,
      "outputs": [
        {
          "output_type": "stream",
          "name": "stderr",
          "text": [
            "/usr/local/lib/python3.9/dist-packages/ipykernel/ipkernel.py:283: DeprecationWarning: `should_run_async` will not call `transform_cell` automatically in the future. Please pass the result to `transformed_cell` argument and any exception that happen during thetransform in `preprocessing_exc_tuple` in IPython 7.17 and above.\n",
            "  and should_run_async(code)\n"
          ]
        }
      ]
    },
    {
      "cell_type": "code",
      "source": [
        "data.head()"
      ],
      "metadata": {
        "colab": {
          "base_uri": "https://localhost:8080/",
          "height": 261
        },
        "id": "h7Ddm52grdDE",
        "outputId": "48395dd8-594b-4ee3-c38d-0be61060b7f5"
      },
      "execution_count": null,
      "outputs": [
        {
          "output_type": "stream",
          "name": "stderr",
          "text": [
            "/usr/local/lib/python3.9/dist-packages/ipykernel/ipkernel.py:283: DeprecationWarning: `should_run_async` will not call `transform_cell` automatically in the future. Please pass the result to `transformed_cell` argument and any exception that happen during thetransform in `preprocessing_exc_tuple` in IPython 7.17 and above.\n",
            "  and should_run_async(code)\n"
          ]
        },
        {
          "output_type": "execute_result",
          "data": {
            "text/plain": [
              "               Author                                            Content  \\\n",
              "0                 lao  Salut les gens j espere que vous allez tous bi...   \n",
              "1  Camille (they/iel)                                Hello pas encore :/   \n",
              "2           Nadjet_Sm                                 Coucou, Pas encore   \n",
              "3          Quentin_Lo                        salut, pas encore aussi ^^'   \n",
              "4                 lao  Merci pour vos retours au moins je sais que ce...   \n",
              "\n",
              "  Reactions  \n",
              "0       NaN  \n",
              "1       NaN  \n",
              "2       NaN  \n",
              "3       NaN  \n",
              "4       NaN  "
            ],
            "text/html": [
              "\n",
              "  <div id=\"df-52306eaf-5e0b-40e0-9d81-bc569dd96052\">\n",
              "    <div class=\"colab-df-container\">\n",
              "      <div>\n",
              "<style scoped>\n",
              "    .dataframe tbody tr th:only-of-type {\n",
              "        vertical-align: middle;\n",
              "    }\n",
              "\n",
              "    .dataframe tbody tr th {\n",
              "        vertical-align: top;\n",
              "    }\n",
              "\n",
              "    .dataframe thead th {\n",
              "        text-align: right;\n",
              "    }\n",
              "</style>\n",
              "<table border=\"1\" class=\"dataframe\">\n",
              "  <thead>\n",
              "    <tr style=\"text-align: right;\">\n",
              "      <th></th>\n",
              "      <th>Author</th>\n",
              "      <th>Content</th>\n",
              "      <th>Reactions</th>\n",
              "    </tr>\n",
              "  </thead>\n",
              "  <tbody>\n",
              "    <tr>\n",
              "      <th>0</th>\n",
              "      <td>lao</td>\n",
              "      <td>Salut les gens j espere que vous allez tous bi...</td>\n",
              "      <td>NaN</td>\n",
              "    </tr>\n",
              "    <tr>\n",
              "      <th>1</th>\n",
              "      <td>Camille (they/iel)</td>\n",
              "      <td>Hello pas encore :/</td>\n",
              "      <td>NaN</td>\n",
              "    </tr>\n",
              "    <tr>\n",
              "      <th>2</th>\n",
              "      <td>Nadjet_Sm</td>\n",
              "      <td>Coucou, Pas encore</td>\n",
              "      <td>NaN</td>\n",
              "    </tr>\n",
              "    <tr>\n",
              "      <th>3</th>\n",
              "      <td>Quentin_Lo</td>\n",
              "      <td>salut, pas encore aussi ^^'</td>\n",
              "      <td>NaN</td>\n",
              "    </tr>\n",
              "    <tr>\n",
              "      <th>4</th>\n",
              "      <td>lao</td>\n",
              "      <td>Merci pour vos retours au moins je sais que ce...</td>\n",
              "      <td>NaN</td>\n",
              "    </tr>\n",
              "  </tbody>\n",
              "</table>\n",
              "</div>\n",
              "      <button class=\"colab-df-convert\" onclick=\"convertToInteractive('df-52306eaf-5e0b-40e0-9d81-bc569dd96052')\"\n",
              "              title=\"Convert this dataframe to an interactive table.\"\n",
              "              style=\"display:none;\">\n",
              "        \n",
              "  <svg xmlns=\"http://www.w3.org/2000/svg\" height=\"24px\"viewBox=\"0 0 24 24\"\n",
              "       width=\"24px\">\n",
              "    <path d=\"M0 0h24v24H0V0z\" fill=\"none\"/>\n",
              "    <path d=\"M18.56 5.44l.94 2.06.94-2.06 2.06-.94-2.06-.94-.94-2.06-.94 2.06-2.06.94zm-11 1L8.5 8.5l.94-2.06 2.06-.94-2.06-.94L8.5 2.5l-.94 2.06-2.06.94zm10 10l.94 2.06.94-2.06 2.06-.94-2.06-.94-.94-2.06-.94 2.06-2.06.94z\"/><path d=\"M17.41 7.96l-1.37-1.37c-.4-.4-.92-.59-1.43-.59-.52 0-1.04.2-1.43.59L10.3 9.45l-7.72 7.72c-.78.78-.78 2.05 0 2.83L4 21.41c.39.39.9.59 1.41.59.51 0 1.02-.2 1.41-.59l7.78-7.78 2.81-2.81c.8-.78.8-2.07 0-2.86zM5.41 20L4 18.59l7.72-7.72 1.47 1.35L5.41 20z\"/>\n",
              "  </svg>\n",
              "      </button>\n",
              "      \n",
              "  <style>\n",
              "    .colab-df-container {\n",
              "      display:flex;\n",
              "      flex-wrap:wrap;\n",
              "      gap: 12px;\n",
              "    }\n",
              "\n",
              "    .colab-df-convert {\n",
              "      background-color: #E8F0FE;\n",
              "      border: none;\n",
              "      border-radius: 50%;\n",
              "      cursor: pointer;\n",
              "      display: none;\n",
              "      fill: #1967D2;\n",
              "      height: 32px;\n",
              "      padding: 0 0 0 0;\n",
              "      width: 32px;\n",
              "    }\n",
              "\n",
              "    .colab-df-convert:hover {\n",
              "      background-color: #E2EBFA;\n",
              "      box-shadow: 0px 1px 2px rgba(60, 64, 67, 0.3), 0px 1px 3px 1px rgba(60, 64, 67, 0.15);\n",
              "      fill: #174EA6;\n",
              "    }\n",
              "\n",
              "    [theme=dark] .colab-df-convert {\n",
              "      background-color: #3B4455;\n",
              "      fill: #D2E3FC;\n",
              "    }\n",
              "\n",
              "    [theme=dark] .colab-df-convert:hover {\n",
              "      background-color: #434B5C;\n",
              "      box-shadow: 0px 1px 3px 1px rgba(0, 0, 0, 0.15);\n",
              "      filter: drop-shadow(0px 1px 2px rgba(0, 0, 0, 0.3));\n",
              "      fill: #FFFFFF;\n",
              "    }\n",
              "  </style>\n",
              "\n",
              "      <script>\n",
              "        const buttonEl =\n",
              "          document.querySelector('#df-52306eaf-5e0b-40e0-9d81-bc569dd96052 button.colab-df-convert');\n",
              "        buttonEl.style.display =\n",
              "          google.colab.kernel.accessAllowed ? 'block' : 'none';\n",
              "\n",
              "        async function convertToInteractive(key) {\n",
              "          const element = document.querySelector('#df-52306eaf-5e0b-40e0-9d81-bc569dd96052');\n",
              "          const dataTable =\n",
              "            await google.colab.kernel.invokeFunction('convertToInteractive',\n",
              "                                                     [key], {});\n",
              "          if (!dataTable) return;\n",
              "\n",
              "          const docLinkHtml = 'Like what you see? Visit the ' +\n",
              "            '<a target=\"_blank\" href=https://colab.research.google.com/notebooks/data_table.ipynb>data table notebook</a>'\n",
              "            + ' to learn more about interactive tables.';\n",
              "          element.innerHTML = '';\n",
              "          dataTable['output_type'] = 'display_data';\n",
              "          await google.colab.output.renderOutput(dataTable, element);\n",
              "          const docLink = document.createElement('div');\n",
              "          docLink.innerHTML = docLinkHtml;\n",
              "          element.appendChild(docLink);\n",
              "        }\n",
              "      </script>\n",
              "    </div>\n",
              "  </div>\n",
              "  "
            ]
          },
          "metadata": {},
          "execution_count": 236
        }
      ]
    },
    {
      "cell_type": "code",
      "source": [
        "\n",
        "\n"
      ],
      "metadata": {
        "colab": {
          "base_uri": "https://localhost:8080/"
        },
        "id": "MjGnynEpqx0U",
        "outputId": "01da0be7-e8dc-4acd-daf7-41007e62105e"
      },
      "execution_count": null,
      "outputs": [
        {
          "output_type": "stream",
          "name": "stderr",
          "text": [
            "/usr/local/lib/python3.9/dist-packages/ipykernel/ipkernel.py:283: DeprecationWarning: `should_run_async` will not call `transform_cell` automatically in the future. Please pass the result to `transformed_cell` argument and any exception that happen during thetransform in `preprocessing_exc_tuple` in IPython 7.17 and above.\n",
            "  and should_run_async(code)\n"
          ]
        }
      ]
    },
    {
      "cell_type": "code",
      "source": [
        "data.head()\n"
      ],
      "metadata": {
        "colab": {
          "base_uri": "https://localhost:8080/",
          "height": 261
        },
        "id": "59LRSbDWqx3Y",
        "outputId": "42e7caba-1886-47a5-9502-fc966c98734d"
      },
      "execution_count": null,
      "outputs": [
        {
          "output_type": "stream",
          "name": "stderr",
          "text": [
            "/usr/local/lib/python3.9/dist-packages/ipykernel/ipkernel.py:283: DeprecationWarning: `should_run_async` will not call `transform_cell` automatically in the future. Please pass the result to `transformed_cell` argument and any exception that happen during thetransform in `preprocessing_exc_tuple` in IPython 7.17 and above.\n",
            "  and should_run_async(code)\n"
          ]
        },
        {
          "output_type": "execute_result",
          "data": {
            "text/plain": [
              "               Author                                            Content  \\\n",
              "0                 lao  Salut les gens j espere que vous allez tous bi...   \n",
              "1  Camille (they/iel)                                Hello pas encore :/   \n",
              "2           Nadjet_Sm                                 Coucou, Pas encore   \n",
              "3          Quentin_Lo                        salut, pas encore aussi ^^'   \n",
              "4                 lao  Merci pour vos retours au moins je sais que ce...   \n",
              "\n",
              "  Reactions  \n",
              "0       NaN  \n",
              "1       NaN  \n",
              "2       NaN  \n",
              "3       NaN  \n",
              "4       NaN  "
            ],
            "text/html": [
              "\n",
              "  <div id=\"df-2e1cf783-7105-405e-bc63-64654534b271\">\n",
              "    <div class=\"colab-df-container\">\n",
              "      <div>\n",
              "<style scoped>\n",
              "    .dataframe tbody tr th:only-of-type {\n",
              "        vertical-align: middle;\n",
              "    }\n",
              "\n",
              "    .dataframe tbody tr th {\n",
              "        vertical-align: top;\n",
              "    }\n",
              "\n",
              "    .dataframe thead th {\n",
              "        text-align: right;\n",
              "    }\n",
              "</style>\n",
              "<table border=\"1\" class=\"dataframe\">\n",
              "  <thead>\n",
              "    <tr style=\"text-align: right;\">\n",
              "      <th></th>\n",
              "      <th>Author</th>\n",
              "      <th>Content</th>\n",
              "      <th>Reactions</th>\n",
              "    </tr>\n",
              "  </thead>\n",
              "  <tbody>\n",
              "    <tr>\n",
              "      <th>0</th>\n",
              "      <td>lao</td>\n",
              "      <td>Salut les gens j espere que vous allez tous bi...</td>\n",
              "      <td>NaN</td>\n",
              "    </tr>\n",
              "    <tr>\n",
              "      <th>1</th>\n",
              "      <td>Camille (they/iel)</td>\n",
              "      <td>Hello pas encore :/</td>\n",
              "      <td>NaN</td>\n",
              "    </tr>\n",
              "    <tr>\n",
              "      <th>2</th>\n",
              "      <td>Nadjet_Sm</td>\n",
              "      <td>Coucou, Pas encore</td>\n",
              "      <td>NaN</td>\n",
              "    </tr>\n",
              "    <tr>\n",
              "      <th>3</th>\n",
              "      <td>Quentin_Lo</td>\n",
              "      <td>salut, pas encore aussi ^^'</td>\n",
              "      <td>NaN</td>\n",
              "    </tr>\n",
              "    <tr>\n",
              "      <th>4</th>\n",
              "      <td>lao</td>\n",
              "      <td>Merci pour vos retours au moins je sais que ce...</td>\n",
              "      <td>NaN</td>\n",
              "    </tr>\n",
              "  </tbody>\n",
              "</table>\n",
              "</div>\n",
              "      <button class=\"colab-df-convert\" onclick=\"convertToInteractive('df-2e1cf783-7105-405e-bc63-64654534b271')\"\n",
              "              title=\"Convert this dataframe to an interactive table.\"\n",
              "              style=\"display:none;\">\n",
              "        \n",
              "  <svg xmlns=\"http://www.w3.org/2000/svg\" height=\"24px\"viewBox=\"0 0 24 24\"\n",
              "       width=\"24px\">\n",
              "    <path d=\"M0 0h24v24H0V0z\" fill=\"none\"/>\n",
              "    <path d=\"M18.56 5.44l.94 2.06.94-2.06 2.06-.94-2.06-.94-.94-2.06-.94 2.06-2.06.94zm-11 1L8.5 8.5l.94-2.06 2.06-.94-2.06-.94L8.5 2.5l-.94 2.06-2.06.94zm10 10l.94 2.06.94-2.06 2.06-.94-2.06-.94-.94-2.06-.94 2.06-2.06.94z\"/><path d=\"M17.41 7.96l-1.37-1.37c-.4-.4-.92-.59-1.43-.59-.52 0-1.04.2-1.43.59L10.3 9.45l-7.72 7.72c-.78.78-.78 2.05 0 2.83L4 21.41c.39.39.9.59 1.41.59.51 0 1.02-.2 1.41-.59l7.78-7.78 2.81-2.81c.8-.78.8-2.07 0-2.86zM5.41 20L4 18.59l7.72-7.72 1.47 1.35L5.41 20z\"/>\n",
              "  </svg>\n",
              "      </button>\n",
              "      \n",
              "  <style>\n",
              "    .colab-df-container {\n",
              "      display:flex;\n",
              "      flex-wrap:wrap;\n",
              "      gap: 12px;\n",
              "    }\n",
              "\n",
              "    .colab-df-convert {\n",
              "      background-color: #E8F0FE;\n",
              "      border: none;\n",
              "      border-radius: 50%;\n",
              "      cursor: pointer;\n",
              "      display: none;\n",
              "      fill: #1967D2;\n",
              "      height: 32px;\n",
              "      padding: 0 0 0 0;\n",
              "      width: 32px;\n",
              "    }\n",
              "\n",
              "    .colab-df-convert:hover {\n",
              "      background-color: #E2EBFA;\n",
              "      box-shadow: 0px 1px 2px rgba(60, 64, 67, 0.3), 0px 1px 3px 1px rgba(60, 64, 67, 0.15);\n",
              "      fill: #174EA6;\n",
              "    }\n",
              "\n",
              "    [theme=dark] .colab-df-convert {\n",
              "      background-color: #3B4455;\n",
              "      fill: #D2E3FC;\n",
              "    }\n",
              "\n",
              "    [theme=dark] .colab-df-convert:hover {\n",
              "      background-color: #434B5C;\n",
              "      box-shadow: 0px 1px 3px 1px rgba(0, 0, 0, 0.15);\n",
              "      filter: drop-shadow(0px 1px 2px rgba(0, 0, 0, 0.3));\n",
              "      fill: #FFFFFF;\n",
              "    }\n",
              "  </style>\n",
              "\n",
              "      <script>\n",
              "        const buttonEl =\n",
              "          document.querySelector('#df-2e1cf783-7105-405e-bc63-64654534b271 button.colab-df-convert');\n",
              "        buttonEl.style.display =\n",
              "          google.colab.kernel.accessAllowed ? 'block' : 'none';\n",
              "\n",
              "        async function convertToInteractive(key) {\n",
              "          const element = document.querySelector('#df-2e1cf783-7105-405e-bc63-64654534b271');\n",
              "          const dataTable =\n",
              "            await google.colab.kernel.invokeFunction('convertToInteractive',\n",
              "                                                     [key], {});\n",
              "          if (!dataTable) return;\n",
              "\n",
              "          const docLinkHtml = 'Like what you see? Visit the ' +\n",
              "            '<a target=\"_blank\" href=https://colab.research.google.com/notebooks/data_table.ipynb>data table notebook</a>'\n",
              "            + ' to learn more about interactive tables.';\n",
              "          element.innerHTML = '';\n",
              "          dataTable['output_type'] = 'display_data';\n",
              "          await google.colab.output.renderOutput(dataTable, element);\n",
              "          const docLink = document.createElement('div');\n",
              "          docLink.innerHTML = docLinkHtml;\n",
              "          element.appendChild(docLink);\n",
              "        }\n",
              "      </script>\n",
              "    </div>\n",
              "  </div>\n",
              "  "
            ]
          },
          "metadata": {},
          "execution_count": 237
        }
      ]
    },
    {
      "cell_type": "code",
      "source": [
        "\n",
        "# Supprimer les caractères de ponctuation sauf l'apostrophe\n",
        "data[\"Content\"] = data[\"Content\"].apply(lambda x: re.sub(r'[^\\w\\s\\']', '', x))\n",
        "\n",
        "# Mettre en minuscule\n",
        "data[\"Content\"] = data[\"Content\"].apply(lambda x: x.lower())\n",
        "\n",
        "# Supprimer les numéros\n",
        "data[\"Content\"] = data[\"Content\"].apply(lambda x: re.sub(r'\\d+', '', x))\n",
        "\n",
        "# Supprimer les adresses mails\n",
        "data[\"Content\"] = data[\"Content\"].apply(lambda x: re.sub(r'\\S+@\\S+', '', x))\n",
        "\n",
        "# Supprimer les URLs\n",
        "data[\"Content\"] = data[\"Content\"].apply(lambda x: re.sub(r'http\\S+', '', x))\n"
      ],
      "metadata": {
        "colab": {
          "base_uri": "https://localhost:8080/"
        },
        "id": "GEaZQO1Vqx6N",
        "outputId": "af5b8b94-b3b7-4817-c77d-a28d688aeb35"
      },
      "execution_count": null,
      "outputs": [
        {
          "output_type": "stream",
          "name": "stderr",
          "text": [
            "/usr/local/lib/python3.9/dist-packages/ipykernel/ipkernel.py:283: DeprecationWarning: `should_run_async` will not call `transform_cell` automatically in the future. Please pass the result to `transformed_cell` argument and any exception that happen during thetransform in `preprocessing_exc_tuple` in IPython 7.17 and above.\n",
            "  and should_run_async(code)\n"
          ]
        }
      ]
    },
    {
      "cell_type": "code",
      "source": [
        "data.head()"
      ],
      "metadata": {
        "colab": {
          "base_uri": "https://localhost:8080/",
          "height": 261
        },
        "id": "dgxyDz6hqx9K",
        "outputId": "0e249b91-4a87-4ab0-d3b6-7cc8c07b8c35"
      },
      "execution_count": null,
      "outputs": [
        {
          "output_type": "stream",
          "name": "stderr",
          "text": [
            "/usr/local/lib/python3.9/dist-packages/ipykernel/ipkernel.py:283: DeprecationWarning: `should_run_async` will not call `transform_cell` automatically in the future. Please pass the result to `transformed_cell` argument and any exception that happen during thetransform in `preprocessing_exc_tuple` in IPython 7.17 and above.\n",
            "  and should_run_async(code)\n"
          ]
        },
        {
          "output_type": "execute_result",
          "data": {
            "text/plain": [
              "               Author                                            Content  \\\n",
              "0                 lao  salut les gens j espere que vous allez tous bi...   \n",
              "1  Camille (they/iel)                                  hello pas encore    \n",
              "2           Nadjet_Sm                                  coucou pas encore   \n",
              "3          Quentin_Lo                           salut pas encore aussi '   \n",
              "4                 lao  merci pour vos retours au moins je sais que ce...   \n",
              "\n",
              "  Reactions  \n",
              "0       NaN  \n",
              "1       NaN  \n",
              "2       NaN  \n",
              "3       NaN  \n",
              "4       NaN  "
            ],
            "text/html": [
              "\n",
              "  <div id=\"df-34880995-55bc-4234-92a3-2034abed98af\">\n",
              "    <div class=\"colab-df-container\">\n",
              "      <div>\n",
              "<style scoped>\n",
              "    .dataframe tbody tr th:only-of-type {\n",
              "        vertical-align: middle;\n",
              "    }\n",
              "\n",
              "    .dataframe tbody tr th {\n",
              "        vertical-align: top;\n",
              "    }\n",
              "\n",
              "    .dataframe thead th {\n",
              "        text-align: right;\n",
              "    }\n",
              "</style>\n",
              "<table border=\"1\" class=\"dataframe\">\n",
              "  <thead>\n",
              "    <tr style=\"text-align: right;\">\n",
              "      <th></th>\n",
              "      <th>Author</th>\n",
              "      <th>Content</th>\n",
              "      <th>Reactions</th>\n",
              "    </tr>\n",
              "  </thead>\n",
              "  <tbody>\n",
              "    <tr>\n",
              "      <th>0</th>\n",
              "      <td>lao</td>\n",
              "      <td>salut les gens j espere que vous allez tous bi...</td>\n",
              "      <td>NaN</td>\n",
              "    </tr>\n",
              "    <tr>\n",
              "      <th>1</th>\n",
              "      <td>Camille (they/iel)</td>\n",
              "      <td>hello pas encore</td>\n",
              "      <td>NaN</td>\n",
              "    </tr>\n",
              "    <tr>\n",
              "      <th>2</th>\n",
              "      <td>Nadjet_Sm</td>\n",
              "      <td>coucou pas encore</td>\n",
              "      <td>NaN</td>\n",
              "    </tr>\n",
              "    <tr>\n",
              "      <th>3</th>\n",
              "      <td>Quentin_Lo</td>\n",
              "      <td>salut pas encore aussi '</td>\n",
              "      <td>NaN</td>\n",
              "    </tr>\n",
              "    <tr>\n",
              "      <th>4</th>\n",
              "      <td>lao</td>\n",
              "      <td>merci pour vos retours au moins je sais que ce...</td>\n",
              "      <td>NaN</td>\n",
              "    </tr>\n",
              "  </tbody>\n",
              "</table>\n",
              "</div>\n",
              "      <button class=\"colab-df-convert\" onclick=\"convertToInteractive('df-34880995-55bc-4234-92a3-2034abed98af')\"\n",
              "              title=\"Convert this dataframe to an interactive table.\"\n",
              "              style=\"display:none;\">\n",
              "        \n",
              "  <svg xmlns=\"http://www.w3.org/2000/svg\" height=\"24px\"viewBox=\"0 0 24 24\"\n",
              "       width=\"24px\">\n",
              "    <path d=\"M0 0h24v24H0V0z\" fill=\"none\"/>\n",
              "    <path d=\"M18.56 5.44l.94 2.06.94-2.06 2.06-.94-2.06-.94-.94-2.06-.94 2.06-2.06.94zm-11 1L8.5 8.5l.94-2.06 2.06-.94-2.06-.94L8.5 2.5l-.94 2.06-2.06.94zm10 10l.94 2.06.94-2.06 2.06-.94-2.06-.94-.94-2.06-.94 2.06-2.06.94z\"/><path d=\"M17.41 7.96l-1.37-1.37c-.4-.4-.92-.59-1.43-.59-.52 0-1.04.2-1.43.59L10.3 9.45l-7.72 7.72c-.78.78-.78 2.05 0 2.83L4 21.41c.39.39.9.59 1.41.59.51 0 1.02-.2 1.41-.59l7.78-7.78 2.81-2.81c.8-.78.8-2.07 0-2.86zM5.41 20L4 18.59l7.72-7.72 1.47 1.35L5.41 20z\"/>\n",
              "  </svg>\n",
              "      </button>\n",
              "      \n",
              "  <style>\n",
              "    .colab-df-container {\n",
              "      display:flex;\n",
              "      flex-wrap:wrap;\n",
              "      gap: 12px;\n",
              "    }\n",
              "\n",
              "    .colab-df-convert {\n",
              "      background-color: #E8F0FE;\n",
              "      border: none;\n",
              "      border-radius: 50%;\n",
              "      cursor: pointer;\n",
              "      display: none;\n",
              "      fill: #1967D2;\n",
              "      height: 32px;\n",
              "      padding: 0 0 0 0;\n",
              "      width: 32px;\n",
              "    }\n",
              "\n",
              "    .colab-df-convert:hover {\n",
              "      background-color: #E2EBFA;\n",
              "      box-shadow: 0px 1px 2px rgba(60, 64, 67, 0.3), 0px 1px 3px 1px rgba(60, 64, 67, 0.15);\n",
              "      fill: #174EA6;\n",
              "    }\n",
              "\n",
              "    [theme=dark] .colab-df-convert {\n",
              "      background-color: #3B4455;\n",
              "      fill: #D2E3FC;\n",
              "    }\n",
              "\n",
              "    [theme=dark] .colab-df-convert:hover {\n",
              "      background-color: #434B5C;\n",
              "      box-shadow: 0px 1px 3px 1px rgba(0, 0, 0, 0.15);\n",
              "      filter: drop-shadow(0px 1px 2px rgba(0, 0, 0, 0.3));\n",
              "      fill: #FFFFFF;\n",
              "    }\n",
              "  </style>\n",
              "\n",
              "      <script>\n",
              "        const buttonEl =\n",
              "          document.querySelector('#df-34880995-55bc-4234-92a3-2034abed98af button.colab-df-convert');\n",
              "        buttonEl.style.display =\n",
              "          google.colab.kernel.accessAllowed ? 'block' : 'none';\n",
              "\n",
              "        async function convertToInteractive(key) {\n",
              "          const element = document.querySelector('#df-34880995-55bc-4234-92a3-2034abed98af');\n",
              "          const dataTable =\n",
              "            await google.colab.kernel.invokeFunction('convertToInteractive',\n",
              "                                                     [key], {});\n",
              "          if (!dataTable) return;\n",
              "\n",
              "          const docLinkHtml = 'Like what you see? Visit the ' +\n",
              "            '<a target=\"_blank\" href=https://colab.research.google.com/notebooks/data_table.ipynb>data table notebook</a>'\n",
              "            + ' to learn more about interactive tables.';\n",
              "          element.innerHTML = '';\n",
              "          dataTable['output_type'] = 'display_data';\n",
              "          await google.colab.output.renderOutput(dataTable, element);\n",
              "          const docLink = document.createElement('div');\n",
              "          docLink.innerHTML = docLinkHtml;\n",
              "          element.appendChild(docLink);\n",
              "        }\n",
              "      </script>\n",
              "    </div>\n",
              "  </div>\n",
              "  "
            ]
          },
          "metadata": {},
          "execution_count": 239
        }
      ]
    },
    {
      "cell_type": "code",
      "source": [
        "#tokenization\n",
        "data['Content']=data['Content'].map(lambda x: word_tokenize(x))\n"
      ],
      "metadata": {
        "colab": {
          "base_uri": "https://localhost:8080/"
        },
        "id": "8qeY-BPhqsfl",
        "outputId": "944e2de8-455d-48c9-f853-1f850e17bdf6"
      },
      "execution_count": null,
      "outputs": [
        {
          "output_type": "stream",
          "name": "stderr",
          "text": [
            "/usr/local/lib/python3.9/dist-packages/ipykernel/ipkernel.py:283: DeprecationWarning: `should_run_async` will not call `transform_cell` automatically in the future. Please pass the result to `transformed_cell` argument and any exception that happen during thetransform in `preprocessing_exc_tuple` in IPython 7.17 and above.\n",
            "  and should_run_async(code)\n"
          ]
        }
      ]
    },
    {
      "cell_type": "code",
      "source": [
        "data[\"Content\"]"
      ],
      "metadata": {
        "colab": {
          "base_uri": "https://localhost:8080/"
        },
        "id": "Bq4LDXePw39Z",
        "outputId": "de21ea5a-eb97-495a-860a-6f7479be3a32"
      },
      "execution_count": null,
      "outputs": [
        {
          "output_type": "stream",
          "name": "stderr",
          "text": [
            "/usr/local/lib/python3.9/dist-packages/ipykernel/ipkernel.py:283: DeprecationWarning: `should_run_async` will not call `transform_cell` automatically in the future. Please pass the result to `transformed_cell` argument and any exception that happen during thetransform in `preprocessing_exc_tuple` in IPython 7.17 and above.\n",
            "  and should_run_async(code)\n"
          ]
        },
        {
          "output_type": "execute_result",
          "data": {
            "text/plain": [
              "0     [salut, les, gens, j, espere, que, vous, allez...\n",
              "1                                  [hello, pas, encore]\n",
              "2                                 [coucou, pas, encore]\n",
              "3                        [salut, pas, encore, aussi, ']\n",
              "4     [merci, pour, vos, retours, au, moins, je, sai...\n",
              "                            ...                        \n",
              "15                                            [merciii]\n",
              "16    [oui, c'est, dans, le, même, couloir, du, bure...\n",
              "17    [quelle, drôle, de, question, et, dans, ce, ch...\n",
              "18    [euh, le, cours, en, question, est, un, cours,...\n",
              "19                                        [er, diagram]\n",
              "Name: Content, Length: 1972, dtype: object"
            ]
          },
          "metadata": {},
          "execution_count": 241
        }
      ]
    },
    {
      "cell_type": "code",
      "source": [
        "french_stopwords=stopwords.words('french')\n",
        "data['Content']=data.Content.apply(lambda x:[item for item in x if item not in french_stopwords])\n",
        "data['Content']"
      ],
      "metadata": {
        "colab": {
          "base_uri": "https://localhost:8080/"
        },
        "id": "OM3FuSJt4PPz",
        "outputId": "8306644f-8456-4483-80f9-039e0b52561d"
      },
      "execution_count": null,
      "outputs": [
        {
          "output_type": "stream",
          "name": "stderr",
          "text": [
            "/usr/local/lib/python3.9/dist-packages/ipykernel/ipkernel.py:283: DeprecationWarning: `should_run_async` will not call `transform_cell` automatically in the future. Please pass the result to `transformed_cell` argument and any exception that happen during thetransform in `preprocessing_exc_tuple` in IPython 7.17 and above.\n",
            "  and should_run_async(code)\n"
          ]
        },
        {
          "output_type": "execute_result",
          "data": {
            "text/plain": [
              "0     [salut, gens, espere, allez, tous, bien, quelq...\n",
              "1                                       [hello, encore]\n",
              "2                                      [coucou, encore]\n",
              "3                             [salut, encore, aussi, ']\n",
              "4     [merci, retours, moins, sais, probleme, perso,...\n",
              "                            ...                        \n",
              "15                                            [merciii]\n",
              "16       [oui, c'est, couloir, bureau, étienne, gauche]\n",
              "17               [quelle, drôle, question, channel, xd]\n",
              "18          [euh, cours, question, cours, projet, démo]\n",
              "19                                        [er, diagram]\n",
              "Name: Content, Length: 1972, dtype: object"
            ]
          },
          "metadata": {},
          "execution_count": 242
        }
      ]
    },
    {
      "cell_type": "code",
      "source": [],
      "metadata": {
        "colab": {
          "base_uri": "https://localhost:8080/"
        },
        "id": "Scnym3rL_2VL",
        "outputId": "ba663602-2085-44b5-c323-92a1a9143b99"
      },
      "execution_count": null,
      "outputs": [
        {
          "output_type": "stream",
          "name": "stderr",
          "text": [
            "/usr/local/lib/python3.9/dist-packages/ipykernel/ipkernel.py:283: DeprecationWarning: `should_run_async` will not call `transform_cell` automatically in the future. Please pass the result to `transformed_cell` argument and any exception that happen during thetransform in `preprocessing_exc_tuple` in IPython 7.17 and above.\n",
            "  and should_run_async(code)\n"
          ]
        }
      ]
    },
    {
      "cell_type": "code",
      "source": [
        "# Créer un dictionnaire de mots\n",
        "\n",
        "#le dictionnaire créé  contient tous les mots uniques de l'ensemble de données.\n",
        "\n",
        "dictionary = Dictionary(data[\"Content\"])"
      ],
      "metadata": {
        "colab": {
          "base_uri": "https://localhost:8080/"
        },
        "id": "cxwqE99I8Ofz",
        "outputId": "e8b99513-b475-472c-b21e-a7f5d4b7ed52"
      },
      "execution_count": null,
      "outputs": [
        {
          "output_type": "stream",
          "name": "stderr",
          "text": [
            "/usr/local/lib/python3.9/dist-packages/ipykernel/ipkernel.py:283: DeprecationWarning: `should_run_async` will not call `transform_cell` automatically in the future. Please pass the result to `transformed_cell` argument and any exception that happen during thetransform in `preprocessing_exc_tuple` in IPython 7.17 and above.\n",
            "  and should_run_async(code)\n"
          ]
        }
      ]
    },
    {
      "cell_type": "code",
      "source": [],
      "metadata": {
        "colab": {
          "base_uri": "https://localhost:8080/"
        },
        "id": "0pEVdj4z9y_j",
        "outputId": "252d0e75-3d28-4c19-a776-f90db4e7c0cf"
      },
      "execution_count": null,
      "outputs": [
        {
          "output_type": "stream",
          "name": "stderr",
          "text": [
            "/usr/local/lib/python3.9/dist-packages/ipykernel/ipkernel.py:283: DeprecationWarning: `should_run_async` will not call `transform_cell` automatically in the future. Please pass the result to `transformed_cell` argument and any exception that happen during thetransform in `preprocessing_exc_tuple` in IPython 7.17 and above.\n",
            "  and should_run_async(code)\n"
          ]
        }
      ]
    },
    {
      "cell_type": "code",
      "source": [
        "# Créer un corpus de documents\n",
        "\n",
        "#La méthode \"doc2bow\" transforme chaque liste de mots prétraités en un sac de mots, \n",
        "\n",
        "#c'est-à-dire un vecteur de paires (mot_id, fréquence) qui représente le nombre d'occurrences de chaque mot dans le document.\n",
        "\n",
        "corpus = [dictionary.doc2bow(text) for text in data[\"Content\"]]"
      ],
      "metadata": {
        "colab": {
          "base_uri": "https://localhost:8080/"
        },
        "id": "AelT42yC8zk1",
        "outputId": "6896628a-83ba-40d4-fcb8-812a9a1ec579"
      },
      "execution_count": null,
      "outputs": [
        {
          "output_type": "stream",
          "name": "stderr",
          "text": [
            "/usr/local/lib/python3.9/dist-packages/ipykernel/ipkernel.py:283: DeprecationWarning: `should_run_async` will not call `transform_cell` automatically in the future. Please pass the result to `transformed_cell` argument and any exception that happen during thetransform in `preprocessing_exc_tuple` in IPython 7.17 and above.\n",
            "  and should_run_async(code)\n"
          ]
        }
      ]
    },
    {
      "cell_type": "code",
      "source": [
        "corpus"
      ],
      "metadata": {
        "id": "EBmMw2c6-ZSO"
      },
      "execution_count": null,
      "outputs": []
    },
    {
      "cell_type": "code",
      "source": [
        "#mesure la similarité entre les mots dans un sujet donné en utilisant la log-probabilité négative de ces mots\n",
        "\n",
        "#Plus la valeur de UMass est proche de zéro, plus le modèle est cohérent.\n",
        "cohereence_liste = []\n",
        "\n",
        "for K in range(1,6):\n",
        "    lda_model = LdaModel(corpus=corpus, id2word=dictionary, num_topics=K)\n",
        "    coherence_model = CoherenceModel(model=lda_model, corpus=corpus, coherence='u_mass')\n",
        "    \n",
        "    # Calculate the coherence score for the topics\n",
        "    cohereence_liste.append(coherence_model.get_coherence())"
      ],
      "metadata": {
        "colab": {
          "base_uri": "https://localhost:8080/"
        },
        "id": "xir6Q4Qt-xTD",
        "outputId": "c8c045ef-01ba-4919-fda4-86367223e385"
      },
      "execution_count": null,
      "outputs": [
        {
          "output_type": "stream",
          "name": "stderr",
          "text": [
            "/usr/local/lib/python3.9/dist-packages/ipykernel/ipkernel.py:283: DeprecationWarning: `should_run_async` will not call `transform_cell` automatically in the future. Please pass the result to `transformed_cell` argument and any exception that happen during thetransform in `preprocessing_exc_tuple` in IPython 7.17 and above.\n",
            "  and should_run_async(code)\n",
            "WARNING:gensim.models.ldamodel:too few updates, training might not converge; consider increasing the number of passes or iterations to improve accuracy\n",
            "WARNING:gensim.models.ldamodel:too few updates, training might not converge; consider increasing the number of passes or iterations to improve accuracy\n",
            "WARNING:gensim.models.ldamodel:too few updates, training might not converge; consider increasing the number of passes or iterations to improve accuracy\n",
            "WARNING:gensim.models.ldamodel:too few updates, training might not converge; consider increasing the number of passes or iterations to improve accuracy\n",
            "WARNING:gensim.models.ldamodel:too few updates, training might not converge; consider increasing the number of passes or iterations to improve accuracy\n"
          ]
        }
      ]
    },
    {
      "cell_type": "code",
      "source": [
        "cohereence_liste"
      ],
      "metadata": {
        "colab": {
          "base_uri": "https://localhost:8080/"
        },
        "id": "RbaCp8hM_DjF",
        "outputId": "19730fa6-aa33-4b97-8dfc-4074504f2d2d"
      },
      "execution_count": null,
      "outputs": [
        {
          "output_type": "stream",
          "name": "stderr",
          "text": [
            "/usr/local/lib/python3.9/dist-packages/ipykernel/ipkernel.py:283: DeprecationWarning: `should_run_async` will not call `transform_cell` automatically in the future. Please pass the result to `transformed_cell` argument and any exception that happen during thetransform in `preprocessing_exc_tuple` in IPython 7.17 and above.\n",
            "  and should_run_async(code)\n"
          ]
        },
        {
          "output_type": "execute_result",
          "data": {
            "text/plain": [
              "[-9.349607837435764,\n",
              " -8.269696612057738,\n",
              " -9.087633907089346,\n",
              " -9.39714424311563,\n",
              " -9.46967044136399]"
            ]
          },
          "metadata": {},
          "execution_count": 247
        }
      ]
    },
    {
      "cell_type": "code",
      "source": [
        "# la valeur proche du 0 c'est le nombre optimal des topics\n",
        "\n",
        "min_value = max(cohereence_liste)\n",
        "optimal_topics_number = cohereence_liste.index(min_value)+1\n",
        "\n",
        "optimal_topics_number"
      ],
      "metadata": {
        "colab": {
          "base_uri": "https://localhost:8080/"
        },
        "id": "2eMnlrGj_JDw",
        "outputId": "72f5252d-aa8f-42a2-ed07-2f17080e591a"
      },
      "execution_count": null,
      "outputs": [
        {
          "output_type": "stream",
          "name": "stderr",
          "text": [
            "/usr/local/lib/python3.9/dist-packages/ipykernel/ipkernel.py:283: DeprecationWarning: `should_run_async` will not call `transform_cell` automatically in the future. Please pass the result to `transformed_cell` argument and any exception that happen during thetransform in `preprocessing_exc_tuple` in IPython 7.17 and above.\n",
            "  and should_run_async(code)\n"
          ]
        },
        {
          "output_type": "execute_result",
          "data": {
            "text/plain": [
              "2"
            ]
          },
          "metadata": {},
          "execution_count": 248
        }
      ]
    },
    {
      "cell_type": "code",
      "source": [
        "# Tracer le graphique\n",
        "sns.set(style=\"darkgrid\")\n",
        "sns.lineplot(x=range(1,6), y=cohereence_liste, marker=\"o\")\n",
        "plt.title('Nombre optimal de sujets')\n",
        "plt.xlabel('Nombre de sujets')\n",
        "plt.ylabel('Cohérence UMass')\n",
        "plt.show()"
      ],
      "metadata": {
        "colab": {
          "base_uri": "https://localhost:8080/",
          "height": 535
        },
        "id": "Mq_98qtz_SS3",
        "outputId": "5dfd6309-4cc0-42e9-ff67-792359716707"
      },
      "execution_count": null,
      "outputs": [
        {
          "output_type": "stream",
          "name": "stderr",
          "text": [
            "/usr/local/lib/python3.9/dist-packages/ipykernel/ipkernel.py:283: DeprecationWarning: `should_run_async` will not call `transform_cell` automatically in the future. Please pass the result to `transformed_cell` argument and any exception that happen during thetransform in `preprocessing_exc_tuple` in IPython 7.17 and above.\n",
            "  and should_run_async(code)\n"
          ]
        },
        {
          "output_type": "display_data",
          "data": {
            "text/plain": [
              "<Figure size 640x480 with 1 Axes>"
            ],
            "image/png": "[encoded data removed]"
          },
          "metadata": {}
        }
      ]
    },
    {
      "cell_type": "code",
      "source": [
        "# Afficher les sujets \n",
        "\n",
        "# cela nous donne chaque termm avec le pourcentage d'existance par rapport au document \n",
        "topics = lda_model.show_topics(num_topics=2, num_words=10)\n",
        "for topic in topics:\n",
        "    print(topic)"
      ],
      "metadata": {
        "colab": {
          "base_uri": "https://localhost:8080/"
        },
        "id": "n0zuzo_T_YCR",
        "outputId": "589372dd-2db0-4a23-b282-980624ec59ad"
      },
      "execution_count": null,
      "outputs": [
        {
          "output_type": "stream",
          "name": "stdout",
          "text": [
            "(0, '0.010*\"a\" + 0.008*\"cours\" + 0.007*\"demain\" + 0.007*\"fait\" + 0.006*\"import\" + 0.006*\"faire\" + 0.006*\"c\\'est\" + 0.005*\"md_student\" + 0.005*\"si\" + 0.005*\"prof\"')\n",
            "(1, '0.021*\"\\'\" + 0.012*\"a\" + 0.010*\"everyone\" + 0.010*\"ça\" + 0.009*\"c\\'est\" + 0.008*\"merci\" + 0.007*\"import\" + 0.007*\"j\\'ai\" + 0.006*\"si\" + 0.006*\"faire\"')\n"
          ]
        },
        {
          "output_type": "stream",
          "name": "stderr",
          "text": [
            "/usr/local/lib/python3.9/dist-packages/ipykernel/ipkernel.py:283: DeprecationWarning: `should_run_async` will not call `transform_cell` automatically in the future. Please pass the result to `transformed_cell` argument and any exception that happen during thetransform in `preprocessing_exc_tuple` in IPython 7.17 and above.\n",
            "  and should_run_async(code)\n"
          ]
        }
      ]
    },
    {
      "cell_type": "code",
      "source": [
        "K=2\n",
        "\n",
        "lda_model = LdaModel(corpus=corpus, id2word=dictionary, num_topics=K)"
      ],
      "metadata": {
        "colab": {
          "base_uri": "https://localhost:8080/"
        },
        "id": "McW-Mkc1ACx2",
        "outputId": "8c1aea32-1cf0-4377-c9c4-9ac6b135ec25"
      },
      "execution_count": null,
      "outputs": [
        {
          "output_type": "stream",
          "name": "stderr",
          "text": [
            "/usr/local/lib/python3.9/dist-packages/ipykernel/ipkernel.py:283: DeprecationWarning: `should_run_async` will not call `transform_cell` automatically in the future. Please pass the result to `transformed_cell` argument and any exception that happen during thetransform in `preprocessing_exc_tuple` in IPython 7.17 and above.\n",
            "  and should_run_async(code)\n",
            "WARNING:gensim.models.ldamodel:too few updates, training might not converge; consider increasing the number of passes or iterations to improve accuracy\n"
          ]
        }
      ]
    },
    {
      "cell_type": "code",
      "source": [
        "!pip install pyLDAvis==3.3.1\n"
      ],
      "metadata": {
        "colab": {
          "base_uri": "https://localhost:8080/",
          "height": 887
        },
        "id": "t1rP7qNnTXFt",
        "outputId": "08f544a0-d490-48f4-c503-532addb4e6ef"
      },
      "execution_count": null,
      "outputs": [
        {
          "output_type": "stream",
          "name": "stderr",
          "text": [
            "/usr/local/lib/python3.9/dist-packages/ipykernel/ipkernel.py:283: DeprecationWarning: `should_run_async` will not call `transform_cell` automatically in the future. Please pass the result to `transformed_cell` argument and any exception that happen during thetransform in `preprocessing_exc_tuple` in IPython 7.17 and above.\n",
            "  and should_run_async(code)\n"
          ]
        },
        {
          "output_type": "stream",
          "name": "stdout",
          "text": [
            "Looking in indexes: https://pypi.org/simple, https://us-python.pkg.dev/colab-wheels/public/simple/\n",
            "Collecting pyLDAvis==3.3.1\n",
            "  Downloading pyLDAvis-3.3.1.tar.gz (1.7 MB)\n",
            "\u001b[2K     \u001b[90m━━━━━━━━━━━━━━━━━━━━━━━━━━━━━━━━━━━━━━━━\u001b[0m \u001b[32m1.7/1.7 MB\u001b[0m \u001b[31m24.0 MB/s\u001b[0m eta \u001b[36m0:00:00\u001b[0m\n",
            "\u001b[?25h  Installing build dependencies ... \u001b[?25l\u001b[?25hdone\n",
            "  Getting requirements to build wheel ... \u001b[?25l\u001b[?25hdone\n",
            "  Installing backend dependencies ... \u001b[?25l\u001b[?25hdone\n",
            "  Preparing metadata (pyproject.toml) ... \u001b[?25l\u001b[?25hdone\n",
            "Requirement already satisfied: scipy in /usr/local/lib/python3.9/dist-packages (from pyLDAvis==3.3.1) (1.10.1)\n",
            "Requirement already satisfied: gensim in /usr/local/lib/python3.9/dist-packages (from pyLDAvis==3.3.1) (4.3.1)\n",
            "Collecting sklearn\n",
            "  Downloading sklearn-0.0.post4.tar.gz (3.6 kB)\n",
            "  Preparing metadata (setup.py) ... \u001b[?25l\u001b[?25hdone\n",
            "Requirement already satisfied: scikit-learn in /usr/local/lib/python3.9/dist-packages (from pyLDAvis==3.3.1) (1.2.2)\n",
            "Requirement already satisfied: numpy>=1.20.0 in /usr/local/lib/python3.9/dist-packages (from pyLDAvis==3.3.1) (1.22.4)\n",
            "Requirement already satisfied: pandas>=1.2.0 in /usr/local/lib/python3.9/dist-packages (from pyLDAvis==3.3.1) (1.5.3)\n",
            "Requirement already satisfied: funcy in /usr/local/lib/python3.9/dist-packages (from pyLDAvis==3.3.1) (2.0)\n",
            "Requirement already satisfied: setuptools in /usr/local/lib/python3.9/dist-packages (from pyLDAvis==3.3.1) (67.6.1)\n",
            "Requirement already satisfied: jinja2 in /usr/local/lib/python3.9/dist-packages (from pyLDAvis==3.3.1) (3.1.2)\n",
            "Requirement already satisfied: joblib in /usr/local/lib/python3.9/dist-packages (from pyLDAvis==3.3.1) (1.2.0)\n",
            "Requirement already satisfied: numexpr in /usr/local/lib/python3.9/dist-packages (from pyLDAvis==3.3.1) (2.8.4)\n",
            "Requirement already satisfied: future in /usr/local/lib/python3.9/dist-packages (from pyLDAvis==3.3.1) (0.18.3)\n",
            "Requirement already satisfied: python-dateutil>=2.8.1 in /usr/local/lib/python3.9/dist-packages (from pandas>=1.2.0->pyLDAvis==3.3.1) (2.8.2)\n",
            "Requirement already satisfied: pytz>=2020.1 in /usr/local/lib/python3.9/dist-packages (from pandas>=1.2.0->pyLDAvis==3.3.1) (2022.7.1)\n",
            "Requirement already satisfied: smart-open>=1.8.1 in /usr/local/lib/python3.9/dist-packages (from gensim->pyLDAvis==3.3.1) (6.3.0)\n",
            "Requirement already satisfied: MarkupSafe>=2.0 in /usr/local/lib/python3.9/dist-packages (from jinja2->pyLDAvis==3.3.1) (2.1.2)\n",
            "Requirement already satisfied: threadpoolctl>=2.0.0 in /usr/local/lib/python3.9/dist-packages (from scikit-learn->pyLDAvis==3.3.1) (3.1.0)\n",
            "Requirement already satisfied: six>=1.5 in /usr/local/lib/python3.9/dist-packages (from python-dateutil>=2.8.1->pandas>=1.2.0->pyLDAvis==3.3.1) (1.16.0)\n",
            "Building wheels for collected packages: pyLDAvis, sklearn\n",
            "  Building wheel for pyLDAvis (pyproject.toml) ... \u001b[?25l\u001b[?25hdone\n",
            "  Created wheel for pyLDAvis: filename=pyLDAvis-3.3.1-py2.py3-none-any.whl size=136896 sha256=710466cb8622de9fdbcde78f3662a98f81246ea72f5934dfb84774d6762ef6c5\n",
            "  Stored in directory: /root/.cache/pip/wheels/57/a4/86/d10c6c2e0bf149fbc0afb0aa5a6528ac35b30a133a0270c477\n",
            "  Building wheel for sklearn (setup.py) ... \u001b[?25l\u001b[?25hdone\n",
            "  Created wheel for sklearn: filename=sklearn-0.0.post4-py3-none-any.whl size=2973 sha256=a36a3cddd67a780f8a97b4aec2d3ea62b970e7ce522e81c6e63fa167057b76c8\n",
            "  Stored in directory: /root/.cache/pip/wheels/d5/b2/a9/590d15767d34955f20a9a033e8db973b79cb5672d95790c0a9\n",
            "Successfully built pyLDAvis sklearn\n",
            "Installing collected packages: sklearn, pyLDAvis\n",
            "  Attempting uninstall: pyLDAvis\n",
            "    Found existing installation: pyLDAvis 3.4.0\n",
            "    Uninstalling pyLDAvis-3.4.0:\n",
            "      Successfully uninstalled pyLDAvis-3.4.0\n",
            "Successfully installed pyLDAvis-3.3.1 sklearn-0.0.post4\n"
          ]
        },
        {
          "output_type": "display_data",
          "data": {
            "application/vnd.colab-display-data+json": {
              "pip_warning": {
                "packages": [
                  "pyLDAvis"
                ]
              }
            }
          },
          "metadata": {}
        }
      ]
    },
    {
      "cell_type": "code",
      "source": [],
      "metadata": {
        "id": "0o8-l4_oTp03"
      },
      "execution_count": null,
      "outputs": []
    },
    {
      "cell_type": "code",
      "source": [
        "from IPython.display import display\n",
        "\n",
        "# Générer la visualisation pyLDAvis\n",
        "vis = gensimvis.prepare(lda_model, corpus, dictionary)\n",
        "\n",
        "# Afficher la visualisation\n",
        "display(pyLDAvis.display(vis))"
      ],
      "metadata": {
        "colab": {
          "base_uri": "https://localhost:8080/",
          "height": 951
        },
        "id": "dzewaUrIAbGQ",
        "outputId": "91e909c1-d522-4b62-e7ab-535dc932cda1"
      },
      "execution_count": null,
      "outputs": [
        {
          "output_type": "stream",
          "name": "stderr",
          "text": [
            "/usr/local/lib/python3.9/dist-packages/ipykernel/ipkernel.py:283: DeprecationWarning: `should_run_async` will not call `transform_cell` automatically in the future. Please pass the result to `transformed_cell` argument and any exception that happen during thetransform in `preprocessing_exc_tuple` in IPython 7.17 and above.\n",
            "  and should_run_async(code)\n",
            "/usr/local/lib/python3.9/dist-packages/pyLDAvis/_prepare.py:243: FutureWarning: In a future version of pandas all arguments of DataFrame.drop except for the argument 'labels' will be keyword-only.\n",
            "  default_term_info = default_term_info.sort_values(\n"
          ]
        },
        {
          "output_type": "display_data",
          "data": {
            "text/plain": [
              "<IPython.core.display.HTML object>"
            ],
            "text/html": [
              "\n",
              "<link rel=\"stylesheet\" type=\"text/css\" href=\"https://cdn.jsdelivr.net/gh/bmabey/pyLDAvis@3.4.0/pyLDAvis/js/ldavis.v1.0.0.css\">\n",
              "\n",
              "\n",
              "<div id=\"ldavis_el20261399297234041767376289463\" style=\"background-color:white;\"></div>\n",
              "<script type=\"text/javascript\">\n",
              "\n",
              "var ldavis_el20261399297234041767376289463_data = {\"mdsDat\": {\"x\": [0.027190465373177274, -0.027190465373177274], \"y\": [0.0, 0.0], \"topics\": [1, 2], \"cluster\": [1, 1], \"Freq\": [51.72606759279405, 48.27393240720594]}, \"tinfo\": {\"Term\": [\"'\", \"\\u00e7a\", \"camille\", \"merci\", \"c'est\", \"import\", \"theyiel\", \"bien\", \"''\", \"si\", \"faut\", \"text\", \"md_student\", \"encore\", \"x\", \"a\", \"fnnn\", \"non\", \"plus\", \"e\", \"data\", \"cours\", \"corpus\", \"demain\", \"donn\\u00e9es\", \"for\", \"matin\", \"tous\", \"y_test\", \"vendredi\", \"visited\", \"''\", \"e\", \"occurrences\", \"s'\", \"g'\", \"results\", \"'high\", \"'low\", \"fields\", \"faut\", \"g\", \"data'event'applylambda\", \"snsheatmapny_data\", \"aggs\", \"analyst\", \"b\", \"'medium\", \"spam\", \"encore\", \"dfsgraph\", \"node\", \"mis\", \"co\", \"importants\", \"linewidths\", \"idconsumer\", \"conf\", \"quantity\", \"chaud\", \"'\", \"avant\", \"\\u00e7a\", \"field\", \"y_test\", \"non\", \"'d\", \"matin\", \"accounts_search\", \"devoir\", \"x\", \"c'est\", \"data\", \"good\", \"plus\", \"demain\", \"rien\", \"get\", \"meme\", \"j'ai\", \"fait\", \"x_test\", \"oui\", \"peut\", \"prof\", \"comme\", \"vu\", \"a\", \"of\", \"cours\", \"the\", \"everyone\", \"qu'on\", \"faire\", \"vais\", \"si\", \"from\", \"import\", \"mod\\u00e8le\", \"in\", \"merci\", \"h\", \"for\", \"va\", \"theyiel\", \"fnnn\", \"weekend\", \"camille\", \"adapter\", \"or\", \"pr\\u00e9dit\", \"np\", \"credit\", \"ouf\", \"element\", \"lieu\", \"plagiat\", \"helllooo\", \"etat\", \"faisons\", \"explicative\", \"d\\u00e9mission\", \"joinword\", \"charger\", \"mapping_inverse\", \"raison\", \"scam\", \"algorithmique\", \"pecresse\", \"propos\\u00e9\", \"lowercasetrue\", \"v\", \"regrouper\", \"pronoms\", \"sinon\", \"bien\", \"corpus\", \"text\", \"x_pca\", \"vendredi\", \"feature_names\", \"prochaine\", \"kmeans\", \"salut_anes\", \"merci\", \"md_student\", \"etc\", \"import\", \"n'est\", \"donn\\u00e9es\", \"si\", \"enlever\", \"a\", \"cours\", \"tous\", \"for\", \"bonne\", \"hello\", \"you\", \"faire\", \"lda\", \"in\", \"everyone\", \"from\", \"quelle\", \"va\", \"lien\", \"peux\", \"fois\", \"apr\\u00e8s\", \"groupe\", \"vais\", \"the\", \"h\", \"bonjour\", \"c'est\", \"'\", \"j'ai\", \"i\", \"mod\\u00e8le\", \"fait\", \"plus\", \"\\u00e7a\", \"demain\"], \"Freq\": [202.0, 72.0, 20.0, 72.0, 117.0, 82.0, 14.0, 29.0, 14.0, 78.0, 17.0, 23.0, 37.0, 18.0, 39.0, 164.0, 9.0, 22.0, 52.0, 9.0, 29.0, 89.0, 14.0, 46.0, 22.0, 43.0, 15.0, 29.0, 12.0, 10.0, 4.175858358159784, 13.021821620424422, 8.692560630907785, 3.335969130694422, 2.6579023519425027, 2.6453945592382375, 3.270904960956, 2.6070598480228058, 3.2491881874889845, 3.242668157543622, 14.91043706039666, 2.5937685315720116, 2.5707900301160467, 3.210862227469531, 7.031001777060401, 2.556549306137193, 5.743547216646802, 2.5502171351988157, 2.542282134099384, 15.229288636080076, 1.8992073041704713, 1.8947578071934108, 3.153974202897479, 2.5176156241748493, 1.8857646892647753, 3.757608364910412, 1.875831303946101, 1.8718798472556775, 1.8678593533525418, 3.107245150029302, 160.96672021020055, 6.791033092977117, 56.90882363676728, 7.377056737146751, 9.749975808665319, 17.83300824983374, 6.722695975943069, 12.441312396546813, 6.691404810663483, 8.397902806095091, 29.05182679712182, 81.13649025367849, 21.95873275647699, 8.821184542560568, 36.37385056877275, 32.150154672920955, 9.363769583549606, 9.834884190402569, 9.721211988784066, 37.0178047966619, 29.13744383126223, 7.599207986219621, 16.39572115708011, 17.281463539931803, 17.58593515038481, 16.7516357979679, 10.8435649301159, 71.49204686754636, 10.966734318551348, 36.48634816542003, 20.096521813950442, 25.83168382908252, 15.46206889331633, 25.75957552999519, 19.019051228664487, 29.01454125706859, 21.483641606171805, 28.797664062104893, 15.837450861362846, 20.2889983408763, 23.879988212735498, 16.105673073366376, 16.204304108280606, 15.43023943224861, 12.54242342843395, 8.347512218341421, 3.783014886832241, 17.5929537679287, 2.5134012021407934, 3.1145102856482634, 3.0636539762206225, 4.8971102125079335, 2.4433330294294144, 3.041611378142718, 1.8056948170666107, 1.801043714895033, 2.998637459100756, 2.3981057024753945, 1.7977675980924752, 1.7976474502157207, 2.995714707730284, 2.394914524050965, 2.3945157855536396, 4.189029045914872, 1.7933798411915478, 4.177571802465097, 1.786993673005209, 1.785710341227973, 2.3804764517072123, 1.7796887909938992, 2.3714849621148173, 1.775017906165877, 1.7724978861224714, 1.767570371237454, 2.9428902962248116, 22.249870951547578, 10.938464519112905, 17.95091022824767, 4.638569767974083, 7.976904295495576, 3.5014967960920282, 4.604700408203093, 4.596340511678832, 3.495186310178509, 48.50806963132501, 25.777891752625095, 6.719055483636226, 53.3706538450618, 8.712291335734331, 15.630634759500317, 49.46825080807955, 6.6219288112308385, 93.33085904729737, 52.5377350416912, 19.56537390963298, 27.150263633087203, 9.027351011222244, 13.491970610634432, 9.885386165602341, 35.62550502290775, 6.579385573324131, 28.382230196595813, 32.60931853261816, 26.47928819626254, 7.4534167296160465, 20.5173182416162, 13.551707699375283, 13.269479973894724, 11.402368901688876, 9.855823980168413, 13.868572859875208, 19.264201295984552, 18.957441624574784, 16.90865825108779, 15.528443001076106, 36.76344988361145, 41.574060521562146, 21.06657916048989, 14.523996587842879, 14.225194989091609, 15.39677109171992, 15.788490920329476, 15.878081308090833, 13.964951058196403], \"Total\": [202.0, 72.0, 20.0, 72.0, 117.0, 82.0, 14.0, 29.0, 14.0, 78.0, 17.0, 23.0, 37.0, 18.0, 39.0, 164.0, 9.0, 22.0, 52.0, 9.0, 29.0, 89.0, 14.0, 46.0, 22.0, 43.0, 15.0, 29.0, 12.0, 10.0, 4.571261118474837, 14.465151802391782, 9.888399980172956, 3.804216214717537, 3.043401306442388, 3.0420596436013203, 3.802276550651557, 3.04123951884516, 3.8009616398503177, 3.8007788205539006, 17.479205925095734, 3.0406416803796574, 3.040087182988001, 3.7989201571184257, 8.35707044444553, 3.039639190245998, 6.8376853810691305, 3.0391567871166973, 3.03883248248829, 18.22866240928354, 2.279476922155366, 2.2787211556733284, 3.7974357305723245, 3.0386875280610237, 2.278907961677028, 4.556057432110775, 2.278474425773693, 2.2783502778823572, 2.277897195860618, 3.7965932752960985, 202.5407807317627, 8.349785546954156, 72.78690494485811, 9.108412142632591, 12.13980619001006, 22.74242835643343, 8.345373815567092, 15.922997860417158, 8.345702050499396, 10.61946917141376, 39.36842623328728, 117.89994013728995, 29.52972380258703, 11.370545532334068, 52.16234148910223, 46.11510573111736, 12.12819418375988, 12.879170038502767, 12.876479265506687, 58.084383957151786, 44.53421492298215, 9.853620820926519, 24.17298396552158, 26.419909593931827, 27.16507054887711, 25.662194361356363, 15.130523933183161, 164.82290591484372, 15.870127793133657, 89.02408320711123, 39.05396343852523, 58.44100236170068, 27.0966948932916, 61.38508055290294, 38.28325252464904, 78.48279206514815, 47.962929802434346, 82.1683179071667, 30.062645850454455, 48.67122853747212, 72.38805784406051, 33.01433132445416, 43.35456774136781, 35.94755767386481, 14.076751561028189, 9.640422177091951, 4.451638638946765, 20.776733183028767, 2.969023761225615, 3.7105421378621806, 3.7127207986531605, 5.940840464466701, 2.9712697837958197, 3.714251151326878, 2.2295680857624185, 2.2292543680238768, 3.7156535747322676, 2.972835296205102, 2.22956974205053, 2.229470305337589, 3.7159057086447174, 2.972848659894407, 2.9731389322270525, 5.201944294890747, 2.230077550032744, 5.202987745952945, 2.2299356518829625, 2.230273138836291, 2.973170938099557, 2.230267209334982, 2.973748784073168, 2.230519893217229, 2.2306648068200277, 2.230687649028522, 3.717855859264948, 29.005613777154363, 14.131898642557514, 23.81882555270783, 5.950103535826608, 10.416452834006426, 4.461998701470225, 5.951360018177081, 5.951433746451954, 4.46171448357791, 72.38805784406051, 37.29311214084869, 8.935267083254752, 82.1683179071667, 11.919199189448113, 22.374189697233575, 78.48279206514815, 8.933830654973073, 164.82290591484372, 89.02408320711123, 29.877591890163266, 43.35456774136781, 12.672995019026938, 20.15366413859882, 14.169514320397116, 61.38508055290294, 8.937463977761823, 48.67122853747212, 58.44100236170068, 47.962929802434346, 10.435335224165907, 35.94755767386481, 21.681764011480816, 21.69071307952408, 17.936380535629716, 14.932155123191446, 23.96385608201937, 38.28325252464904, 39.05396343852523, 33.01433132445416, 29.249420615732355, 117.89994013728995, 202.5407807317627, 58.084383957151786, 29.281428515651093, 30.062645850454455, 44.53421492298215, 52.16234148910223, 72.78690494485811, 46.11510573111736], \"Category\": [\"Default\", \"Default\", \"Default\", \"Default\", \"Default\", \"Default\", \"Default\", \"Default\", \"Default\", \"Default\", \"Default\", \"Default\", \"Default\", \"Default\", \"Default\", \"Default\", \"Default\", \"Default\", \"Default\", \"Default\", \"Default\", \"Default\", \"Default\", \"Default\", \"Default\", \"Default\", \"Default\", \"Default\", \"Default\", \"Default\", \"Topic1\", \"Topic1\", \"Topic1\", \"Topic1\", \"Topic1\", \"Topic1\", \"Topic1\", \"Topic1\", \"Topic1\", \"Topic1\", \"Topic1\", \"Topic1\", \"Topic1\", \"Topic1\", \"Topic1\", \"Topic1\", \"Topic1\", \"Topic1\", \"Topic1\", \"Topic1\", \"Topic1\", \"Topic1\", \"Topic1\", \"Topic1\", \"Topic1\", \"Topic1\", \"Topic1\", \"Topic1\", \"Topic1\", \"Topic1\", \"Topic1\", \"Topic1\", \"Topic1\", \"Topic1\", \"Topic1\", \"Topic1\", \"Topic1\", \"Topic1\", \"Topic1\", \"Topic1\", \"Topic1\", \"Topic1\", \"Topic1\", \"Topic1\", \"Topic1\", \"Topic1\", \"Topic1\", \"Topic1\", \"Topic1\", \"Topic1\", \"Topic1\", \"Topic1\", \"Topic1\", \"Topic1\", \"Topic1\", \"Topic1\", \"Topic1\", \"Topic1\", \"Topic1\", \"Topic1\", \"Topic1\", \"Topic1\", \"Topic1\", \"Topic1\", \"Topic1\", \"Topic1\", \"Topic1\", \"Topic1\", \"Topic1\", \"Topic1\", \"Topic1\", \"Topic1\", \"Topic1\", \"Topic1\", \"Topic2\", \"Topic2\", \"Topic2\", \"Topic2\", \"Topic2\", \"Topic2\", \"Topic2\", \"Topic2\", \"Topic2\", \"Topic2\", \"Topic2\", \"Topic2\", \"Topic2\", \"Topic2\", \"Topic2\", \"Topic2\", \"Topic2\", \"Topic2\", \"Topic2\", \"Topic2\", \"Topic2\", \"Topic2\", \"Topic2\", \"Topic2\", \"Topic2\", \"Topic2\", \"Topic2\", \"Topic2\", \"Topic2\", \"Topic2\", \"Topic2\", \"Topic2\", \"Topic2\", \"Topic2\", \"Topic2\", \"Topic2\", \"Topic2\", \"Topic2\", \"Topic2\", \"Topic2\", \"Topic2\", \"Topic2\", \"Topic2\", \"Topic2\", \"Topic2\", \"Topic2\", \"Topic2\", \"Topic2\", \"Topic2\", \"Topic2\", \"Topic2\", \"Topic2\", \"Topic2\", \"Topic2\", \"Topic2\", \"Topic2\", \"Topic2\", \"Topic2\", \"Topic2\", \"Topic2\", \"Topic2\", \"Topic2\", \"Topic2\", \"Topic2\", \"Topic2\", \"Topic2\", \"Topic2\", \"Topic2\", \"Topic2\", \"Topic2\", \"Topic2\", \"Topic2\", \"Topic2\", \"Topic2\", \"Topic2\", \"Topic2\", \"Topic2\", \"Topic2\", \"Topic2\", \"Topic2\"], \"logprob\": [30.0, 29.0, 28.0, 27.0, 26.0, 25.0, 24.0, 23.0, 22.0, 21.0, 20.0, 19.0, 18.0, 17.0, 16.0, 15.0, 14.0, 13.0, 12.0, 11.0, 10.0, 9.0, 8.0, 7.0, 6.0, 5.0, 4.0, 3.0, 2.0, 1.0, -7.3778, -6.2405, -6.6447, -7.6024, -7.8296, -7.8343, -7.6221, -7.8489, -7.6288, -7.6308, -6.1051, -7.8541, -7.863, -7.6406, -6.8568, -7.8685, -7.0591, -7.871, -7.8741, -6.0839, -8.1657, -8.1681, -7.6585, -7.8839, -8.1728, -7.4834, -8.1781, -8.1802, -8.1824, -7.6734, -3.726, -6.8916, -4.7657, -6.8088, -6.5299, -5.9261, -6.9017, -6.2861, -6.9063, -6.6792, -5.4381, -4.411, -5.718, -6.63, -5.2133, -5.3368, -6.5703, -6.5212, -6.5329, -5.1958, -5.4351, -6.7791, -6.0101, -5.9575, -5.9401, -5.9887, -6.4236, -4.5376, -6.4123, -5.2102, -5.8066, -5.5556, -6.0688, -5.5584, -5.8617, -5.4394, -5.7399, -5.4469, -6.0448, -5.7971, -5.6341, -6.028, -6.0219, -6.0708, -6.209, -6.6161, -7.4076, -5.8706, -7.8165, -7.602, -7.6185, -7.1495, -7.8447, -7.6257, -8.1472, -8.1497, -7.6399, -7.8634, -8.1516, -8.1516, -7.6409, -7.8648, -7.8649, -7.3056, -8.154, -7.3084, -8.1576, -8.1583, -7.8708, -8.1617, -7.8746, -8.1643, -8.1657, -8.1685, -7.6587, -5.6358, -6.3458, -5.8505, -7.2037, -6.6615, -7.4849, -7.211, -7.2128, -7.4867, -4.8564, -5.4886, -6.8332, -4.7608, -6.5734, -5.9889, -4.8368, -6.8477, -4.2019, -4.7766, -5.7643, -5.4367, -6.5378, -6.136, -6.447, -5.165, -6.8542, -5.3923, -5.2535, -5.4617, -6.7294, -5.7168, -6.1316, -6.1526, -6.3043, -6.45, -6.1085, -5.7798, -5.7959, -5.9103, -5.9954, -5.1336, -5.0106, -5.6904, -6.0623, -6.0831, -6.0039, -5.9788, -5.9732, -6.1015], \"loglift\": [30.0, 29.0, 28.0, 27.0, 26.0, 25.0, 24.0, 23.0, 22.0, 21.0, 20.0, 19.0, 18.0, 17.0, 16.0, 15.0, 14.0, 13.0, 12.0, 11.0, 10.0, 9.0, 8.0, 7.0, 6.0, 5.0, 4.0, 3.0, 2.0, 1.0, 0.5687, 0.5541, 0.5303, 0.5279, 0.5238, 0.5195, 0.5087, 0.5052, 0.5024, 0.5004, 0.5003, 0.5003, 0.4915, 0.491, 0.4864, 0.4861, 0.4848, 0.4838, 0.4808, 0.4794, 0.4767, 0.4747, 0.4735, 0.4711, 0.4698, 0.4665, 0.4648, 0.4627, 0.4607, 0.4588, 0.4295, 0.4526, 0.4131, 0.4484, 0.44, 0.416, 0.443, 0.4125, 0.4383, 0.4245, 0.3553, 0.2855, 0.363, 0.4053, 0.2987, 0.2985, 0.4005, 0.3895, 0.3781, 0.2087, 0.235, 0.3994, 0.271, 0.2347, 0.2244, 0.2327, 0.3261, -0.1761, 0.2896, -0.2328, -0.0052, -0.1572, 0.0982, -0.2092, -0.0404, -0.3359, -0.1439, -0.3893, 0.0183, -0.2158, -0.4498, -0.0586, -0.3249, -0.1865, 0.6129, 0.5843, 0.5655, 0.5619, 0.5617, 0.5532, 0.5361, 0.5351, 0.5327, 0.5285, 0.5174, 0.515, 0.5139, 0.5134, 0.513, 0.513, 0.5128, 0.5121, 0.5118, 0.5117, 0.5103, 0.5088, 0.5068, 0.506, 0.506, 0.5026, 0.502, 0.4999, 0.4984, 0.4956, 0.4945, 0.4631, 0.4721, 0.4454, 0.4793, 0.4614, 0.4859, 0.4717, 0.4699, 0.4841, 0.328, 0.359, 0.4432, 0.2968, 0.4149, 0.3696, 0.2667, 0.4288, 0.1596, 0.2009, 0.3049, 0.2603, 0.3891, 0.327, 0.3682, 0.1842, 0.422, 0.189, 0.1449, 0.1342, 0.3918, 0.1675, 0.2583, 0.2369, 0.2753, 0.3128, 0.1814, 0.0415, 0.0055, 0.0592, 0.0951, -0.4371, -0.8552, -0.2859, 0.0271, -0.02, -0.3338, -0.4668, -0.7943, -0.4663]}, \"token.table\": {\"Topic\": [1, 2, 1, 2, 1, 2, 1, 1, 2, 1, 1, 2, 1, 2, 2, 1, 2, 2, 1, 1, 2, 1, 2, 1, 2, 1, 2, 1, 2, 1, 2, 1, 2, 1, 2, 1, 2, 1, 2, 1, 2, 1, 2, 1, 1, 2, 1, 2, 1, 2, 1, 2, 1, 1, 2, 1, 2, 1, 1, 2, 1, 2, 1, 2, 2, 1, 2, 1, 2, 2, 1, 2, 1, 2, 1, 2, 1, 2, 2, 1, 2, 1, 2, 1, 2, 1, 2, 1, 2, 1, 2, 1, 2, 1, 2, 1, 2, 1, 1, 1, 2, 1, 2, 1, 2, 1, 2, 1, 2, 1, 2, 1, 2, 1, 1, 2, 1, 1, 2, 1, 2, 1, 2, 1, 2, 1, 2, 1, 2, 2, 1, 2, 1, 2, 2, 1, 2, 1, 2, 1, 2, 1, 2, 1, 2, 1, 2, 1, 2, 1, 1, 2, 1, 2, 1, 1, 2, 1, 2, 1, 2, 1, 2, 1, 2, 1, 2, 1, 2, 1, 2, 1, 2, 1, 2, 1, 2, 2, 2, 1, 2, 1, 2, 1, 1, 2, 1, 2, 2, 1, 2, 1, 2, 1, 1, 2, 2, 1, 2, 1, 2, 1, 2, 1, 1, 2, 1, 2, 1, 2, 1, 2, 2, 1, 2, 1, 2, 1, 2, 1, 1, 2, 1, 2, 1, 2, 1, 2, 1, 2, 1, 2, 1, 2, 1, 2], \"Freq\": [0.7949016460700933, 0.2073656468008939, 0.8987116193174328, 0.06913166302441791, 0.8387880704567732, 0.23965373441622093, 0.9864398977490534, 0.7892739480838697, 0.2630913160279566, 0.9871159042262357, 0.4307653696912878, 0.5642419631167572, 0.8387550810756692, 0.23964430887876265, 1.0104331393971728, 0.8376140953379785, 0.11965915647685407, 0.8967511490738562, 0.9869592449086729, 0.3348478473970843, 0.6696956947941686, 0.8383448845046647, 0.2395271098584756, 0.8774899202896418, 0.14624832004827362, 0.2413325935379239, 0.7584738654049038, 0.4786419595767936, 0.5470193823734785, 0.31563178191062913, 0.7101715092989156, 0.6870232495934995, 0.3138254349994998, 0.14439228600435197, 0.8663537160261119, 0.19223581478605634, 0.7689432591442253, 0.7901820875890447, 0.26339402919634824, 0.9872683427618798, 0.32908944758729325, 0.6624530919148363, 0.3507104604255016, 0.8778281458367001, 0.2122857003067973, 0.7783809011249234, 0.4043849563297084, 0.5953445190409595, 0.3365564464908644, 0.6731128929817288, 0.745012047761606, 0.2709134719133113, 0.9868138048104921, 0.6939157894721506, 0.3035881578940659, 0.7533333230567651, 0.1883333307641913, 0.8773942743447011, 0.3128604921440129, 0.7151096963291724, 0.3363777017951257, 0.6727554035902514, 0.9101573579189485, 0.10112859532432761, 0.897034727385813, 0.8228799054592597, 0.16457598109185193, 0.22386813420138957, 0.7835384697048634, 0.8970340610025523, 0.22383214529178705, 0.7834125085212547, 0.4448931221111139, 0.5646720396025677, 0.26911339479728746, 0.8073401843918623, 0.4235556875679695, 0.5864617212479578, 0.8970740696621019, 0.6511847138240304, 0.3368196795641537, 0.8581625540816921, 0.1716325108163384, 0.22411481197215516, 0.8964592478886206, 0.7685203403605319, 0.21957724010300908, 0.7893119125418615, 0.26310397084728715, 0.1037298970553644, 0.8298391764429152, 0.3902682587545939, 0.6132786923286476, 0.36904992561448635, 0.6227717494744457, 0.43783814054941556, 0.5420853168707049, 0.9866338475059703, 0.9861739582621962, 0.7764475482585151, 0.23293426447755455, 0.7915187511810211, 0.263839583727007, 0.4172951116787598, 0.5842131563502637, 0.484638015011032, 0.5149278909492215, 0.33637921390281017, 0.6727584278056203, 0.3473313811255502, 0.6450439935188789, 0.5122700892814165, 0.5122700892814165, 0.8777803153620509, 0.35293408382491215, 0.6450174635420808, 0.8776133278011885, 0.41092038563608363, 0.5752885398905171, 0.6370042596525513, 0.36154295818117776, 0.33634486069944347, 0.6726897213988869, 0.16802673819500497, 0.8401336909750248, 0.2237771257010261, 0.7832199399535913, 0.36897366818326593, 0.6457039193207155, 0.8971609649790215, 0.8779520582441036, 0.2194880145610259, 0.33627588361054894, 0.6725517672210979, 0.8968297985738811, 0.7536269303804088, 0.1884067325951022, 0.32177523706464556, 0.697179680306732, 0.776609801002658, 0.23298294030079741, 0.33154640025984916, 0.6769072338638586, 0.7900067869082434, 0.2633355956360811, 0.5322219501101607, 0.4656942063463906, 0.2516947617299537, 0.755084285189861, 0.8776852731720172, 0.7914722085914858, 0.21985339127541273, 0.16832635146174865, 0.8416317573087432, 0.7885987101347629, 0.6931261136258299, 0.3150573243753772, 0.26950239691285316, 0.8085071907385594, 0.26923327455731155, 0.8076998236719347, 0.6618959422974476, 0.3309479711487238, 0.3363412399823864, 0.6726824799647728, 0.6434541321785822, 0.34065218762395527, 0.36882143849627325, 0.599334837556444, 0.26913165608342676, 0.8073949682502803, 0.6901530677552334, 0.3067346967801038, 0.16802881979005244, 0.8401440989502622, 0.6626156176407958, 0.3681197875782199, 0.8965845132423681, 0.8967535332218588, 0.26934425027671444, 0.8080327508301434, 0.5535730486345621, 0.44285843890764964, 0.8780027490416991, 0.2874847750988075, 0.6707978085638842, 0.19219726219379105, 0.7687890487751642, 0.8965936943485217, 0.7890009998052143, 0.2630003332684048, 0.7420725512501561, 0.24735751708338538, 0.9857392101559151, 0.22412908842120402, 0.672387265263612, 0.8968868668076568, 0.36950775115043377, 0.6243406829783191, 0.2689722350337994, 0.8069167051013983, 0.7896980920692931, 0.26323269735643107, 0.9872212493738738, 0.2519015887967614, 0.7557047663902842, 0.5121119148759885, 0.48650631913218906, 0.14207823384033047, 0.923508519962148, 0.33469899571432143, 0.6693979914286429, 0.8966519447245391, 0.41727452351806227, 0.5841843329252872, 0.49630056870864525, 0.49630056870864525, 0.19200394144450328, 0.7680157657780131, 0.8750320527160275, 0.7270072106277564, 0.26436625841009326, 0.22463638248871767, 0.8985455299548707, 0.7366309191064275, 0.2540106617608371, 0.16806430240731546, 0.8403215120365772, 0.8118842956702867, 0.2029710739175717, 0.8237363795996248, 0.16474727591992494, 0.2822961965776041, 0.7057404914440101, 0.783107896168714, 0.21981976032806008], \"Term\": [\"'\", \"'\", \"''\", \"''\", \"'d\", \"'d\", \"'high\", \"'low\", \"'low\", \"'medium\", \"a\", \"a\", \"accounts_search\", \"accounts_search\", \"adapter\", \"aggs\", \"aggs\", \"algorithmique\", \"analyst\", \"apr\\u00e8s\", \"apr\\u00e8s\", \"avant\", \"avant\", \"b\", \"b\", \"bien\", \"bien\", \"bonjour\", \"bonjour\", \"bonne\", \"bonne\", \"c'est\", \"c'est\", \"camille\", \"camille\", \"charger\", \"charger\", \"chaud\", \"chaud\", \"co\", \"co\", \"comme\", \"comme\", \"conf\", \"corpus\", \"corpus\", \"cours\", \"cours\", \"credit\", \"credit\", \"data\", \"data\", \"data'event'applylambda\", \"demain\", \"demain\", \"devoir\", \"devoir\", \"dfsgraph\", \"donn\\u00e9es\", \"donn\\u00e9es\", \"d\\u00e9mission\", \"d\\u00e9mission\", \"e\", \"e\", \"element\", \"encore\", \"encore\", \"enlever\", \"enlever\", \"etat\", \"etc\", \"etc\", \"everyone\", \"everyone\", \"explicative\", \"explicative\", \"faire\", \"faire\", \"faisons\", \"fait\", \"fait\", \"faut\", \"faut\", \"feature_names\", \"feature_names\", \"field\", \"field\", \"fields\", \"fields\", \"fnnn\", \"fnnn\", \"fois\", \"fois\", \"for\", \"for\", \"from\", \"from\", \"g\", \"g'\", \"get\", \"get\", \"good\", \"good\", \"groupe\", \"groupe\", \"h\", \"h\", \"helllooo\", \"helllooo\", \"hello\", \"hello\", \"i\", \"i\", \"idconsumer\", \"import\", \"import\", \"importants\", \"in\", \"in\", \"j'ai\", \"j'ai\", \"joinword\", \"joinword\", \"kmeans\", \"kmeans\", \"lda\", \"lda\", \"lien\", \"lien\", \"lieu\", \"linewidths\", \"linewidths\", \"lowercasetrue\", \"lowercasetrue\", \"mapping_inverse\", \"matin\", \"matin\", \"md_student\", \"md_student\", \"meme\", \"meme\", \"merci\", \"merci\", \"mis\", \"mis\", \"mod\\u00e8le\", \"mod\\u00e8le\", \"n'est\", \"n'est\", \"node\", \"non\", \"non\", \"np\", \"np\", \"occurrences\", \"of\", \"of\", \"or\", \"or\", \"ouf\", \"ouf\", \"oui\", \"oui\", \"pecresse\", \"pecresse\", \"peut\", \"peut\", \"peux\", \"peux\", \"plagiat\", \"plagiat\", \"plus\", \"plus\", \"prochaine\", \"prochaine\", \"prof\", \"prof\", \"pronoms\", \"propos\\u00e9\", \"pr\\u00e9dit\", \"pr\\u00e9dit\", \"qu'on\", \"qu'on\", \"quantity\", \"quelle\", \"quelle\", \"raison\", \"raison\", \"regrouper\", \"results\", \"results\", \"rien\", \"rien\", \"s'\", \"salut_anes\", \"salut_anes\", \"scam\", \"si\", \"si\", \"sinon\", \"sinon\", \"snsheatmapny_data\", \"snsheatmapny_data\", \"spam\", \"text\", \"text\", \"the\", \"the\", \"theyiel\", \"theyiel\", \"tous\", \"tous\", \"v\", \"va\", \"va\", \"vais\", \"vais\", \"vendredi\", \"vendredi\", \"visited\", \"vu\", \"vu\", \"weekend\", \"weekend\", \"x\", \"x\", \"x_pca\", \"x_pca\", \"x_test\", \"x_test\", \"y_test\", \"y_test\", \"you\", \"you\", \"\\u00e7a\", \"\\u00e7a\"]}, \"R\": 30, \"lambda.step\": 0.01, \"plot.opts\": {\"xlab\": \"PC1\", \"ylab\": \"PC2\"}, \"topic.order\": [2, 1]};\n",
              "\n",
              "function LDAvis_load_lib(url, callback){\n",
              "  var s = document.createElement('script');\n",
              "  s.src = url;\n",
              "  s.async = true;\n",
              "  s.onreadystatechange = s.onload = callback;\n",
              "  s.onerror = function(){console.warn(\"failed to load library \" + url);};\n",
              "  document.getElementsByTagName(\"head\")[0].appendChild(s);\n",
              "}\n",
              "\n",
              "if(typeof(LDAvis) !== \"undefined\"){\n",
              "   // already loaded: just create the visualization\n",
              "   !function(LDAvis){\n",
              "       new LDAvis(\"#\" + \"ldavis_el20261399297234041767376289463\", ldavis_el20261399297234041767376289463_data);\n",
              "   }(LDAvis);\n",
              "}else if(typeof define === \"function\" && define.amd){\n",
              "   // require.js is available: use it to load d3/LDAvis\n",
              "   require.config({paths: {d3: \"https://d3js.org/d3.v5\"}});\n",
              "   require([\"d3\"], function(d3){\n",
              "      window.d3 = d3;\n",
              "      LDAvis_load_lib(\"https://cdn.jsdelivr.net/gh/bmabey/pyLDAvis@3.4.0/pyLDAvis/js/ldavis.v3.0.0.js\", function(){\n",
              "        new LDAvis(\"#\" + \"ldavis_el20261399297234041767376289463\", ldavis_el20261399297234041767376289463_data);\n",
              "      });\n",
              "    });\n",
              "}else{\n",
              "    // require.js not available: dynamically load d3 & LDAvis\n",
              "    LDAvis_load_lib(\"https://d3js.org/d3.v5.js\", function(){\n",
              "         LDAvis_load_lib(\"https://cdn.jsdelivr.net/gh/bmabey/pyLDAvis@3.4.0/pyLDAvis/js/ldavis.v3.0.0.js\", function(){\n",
              "                 new LDAvis(\"#\" + \"ldavis_el20261399297234041767376289463\", ldavis_el20261399297234041767376289463_data);\n",
              "            })\n",
              "         });\n",
              "}\n",
              "</script>"
            ]
          },
          "metadata": {}
        }
      ]
    }
  ]
}